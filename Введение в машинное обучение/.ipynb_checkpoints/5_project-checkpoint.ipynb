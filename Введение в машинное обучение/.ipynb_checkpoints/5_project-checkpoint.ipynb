{
 "cells": [
  {
   "cell_type": "markdown",
   "metadata": {},
   "source": [
    "# Рекомендация тарифов"
   ]
  },
  {
   "cell_type": "markdown",
   "metadata": {},
   "source": [
    "Загружаем необходимые библиотеки. Если понадобится добавить, потом это сделаем"
   ]
  },
  {
   "cell_type": "code",
   "execution_count": 9,
   "metadata": {},
   "outputs": [],
   "source": [
    "import pandas as pd\n",
    "from sklearn.model_selection import train_test_split\n",
    "from sklearn.metrics import accuracy_score\n",
    "from sklearn.ensemble import RandomForestClassifier\n",
    "from sklearn.tree import DecisionTreeClassifier\n",
    "from sklearn.linear_model import LogisticRegression\n",
    "from sklearn.model_selection import GridSearchCV\n",
    "from sklearn.model_selection import ShuffleSplit"
   ]
  },
  {
   "cell_type": "code",
   "execution_count": 10,
   "metadata": {},
   "outputs": [],
   "source": [
    "df = pd.read_csv(r'C:\\Users\\Dmitry\\PycharmProjects\\untitled\\users_behavior.csv')"
   ]
  },
  {
   "cell_type": "code",
   "execution_count": 11,
   "metadata": {},
   "outputs": [
    {
     "data": {
      "text/html": [
       "<div>\n",
       "<style scoped>\n",
       "    .dataframe tbody tr th:only-of-type {\n",
       "        vertical-align: middle;\n",
       "    }\n",
       "\n",
       "    .dataframe tbody tr th {\n",
       "        vertical-align: top;\n",
       "    }\n",
       "\n",
       "    .dataframe thead th {\n",
       "        text-align: right;\n",
       "    }\n",
       "</style>\n",
       "<table border=\"1\" class=\"dataframe\">\n",
       "  <thead>\n",
       "    <tr style=\"text-align: right;\">\n",
       "      <th></th>\n",
       "      <th>calls</th>\n",
       "      <th>minutes</th>\n",
       "      <th>messages</th>\n",
       "      <th>mb_used</th>\n",
       "      <th>is_ultra</th>\n",
       "    </tr>\n",
       "  </thead>\n",
       "  <tbody>\n",
       "    <tr>\n",
       "      <th>0</th>\n",
       "      <td>40.0</td>\n",
       "      <td>311.90</td>\n",
       "      <td>83.0</td>\n",
       "      <td>19915.42</td>\n",
       "      <td>0</td>\n",
       "    </tr>\n",
       "    <tr>\n",
       "      <th>1</th>\n",
       "      <td>85.0</td>\n",
       "      <td>516.75</td>\n",
       "      <td>56.0</td>\n",
       "      <td>22696.96</td>\n",
       "      <td>0</td>\n",
       "    </tr>\n",
       "    <tr>\n",
       "      <th>2</th>\n",
       "      <td>77.0</td>\n",
       "      <td>467.66</td>\n",
       "      <td>86.0</td>\n",
       "      <td>21060.45</td>\n",
       "      <td>0</td>\n",
       "    </tr>\n",
       "    <tr>\n",
       "      <th>3</th>\n",
       "      <td>106.0</td>\n",
       "      <td>745.53</td>\n",
       "      <td>81.0</td>\n",
       "      <td>8437.39</td>\n",
       "      <td>1</td>\n",
       "    </tr>\n",
       "    <tr>\n",
       "      <th>4</th>\n",
       "      <td>66.0</td>\n",
       "      <td>418.74</td>\n",
       "      <td>1.0</td>\n",
       "      <td>14502.75</td>\n",
       "      <td>0</td>\n",
       "    </tr>\n",
       "  </tbody>\n",
       "</table>\n",
       "</div>"
      ],
      "text/plain": [
       "   calls  minutes  messages   mb_used  is_ultra\n",
       "0   40.0   311.90      83.0  19915.42         0\n",
       "1   85.0   516.75      56.0  22696.96         0\n",
       "2   77.0   467.66      86.0  21060.45         0\n",
       "3  106.0   745.53      81.0   8437.39         1\n",
       "4   66.0   418.74       1.0  14502.75         0"
      ]
     },
     "execution_count": 11,
     "metadata": {},
     "output_type": "execute_result"
    }
   ],
   "source": [
    "df.head()"
   ]
  },
  {
   "cell_type": "code",
   "execution_count": 12,
   "metadata": {},
   "outputs": [
    {
     "name": "stdout",
     "output_type": "stream",
     "text": [
      "<class 'pandas.core.frame.DataFrame'>\n",
      "RangeIndex: 3214 entries, 0 to 3213\n",
      "Data columns (total 5 columns):\n",
      " #   Column    Non-Null Count  Dtype  \n",
      "---  ------    --------------  -----  \n",
      " 0   calls     3214 non-null   float64\n",
      " 1   minutes   3214 non-null   float64\n",
      " 2   messages  3214 non-null   float64\n",
      " 3   mb_used   3214 non-null   float64\n",
      " 4   is_ultra  3214 non-null   int64  \n",
      "dtypes: float64(4), int64(1)\n",
      "memory usage: 125.6 KB\n"
     ]
    }
   ],
   "source": [
    "df.info()"
   ]
  },
  {
   "cell_type": "markdown",
   "metadata": {},
   "source": [
    "Наши старые, добрые данные. Перейдем непосредственно к подготовке датасета к поиску оптимальной модели."
   ]
  },
  {
   "cell_type": "code",
   "execution_count": 13,
   "metadata": {},
   "outputs": [],
   "source": [
    "X = df.drop('is_ultra', axis=1)"
   ]
  },
  {
   "cell_type": "code",
   "execution_count": 14,
   "metadata": {},
   "outputs": [],
   "source": [
    "y = df['is_ultra']"
   ]
  },
  {
   "cell_type": "code",
   "execution_count": 15,
   "metadata": {},
   "outputs": [],
   "source": [
    "X_train, X_test, y_train, y_test= train_test_split(X, y, test_size = 0.25, random_state=12345)"
   ]
  },
  {
   "cell_type": "code",
   "execution_count": 16,
   "metadata": {},
   "outputs": [],
   "source": [
    "X_train_1, X_valid, y_train_1, y_valid= train_test_split(X_train, y_train, test_size = 0.25, random_state=12345)"
   ]
  },
  {
   "cell_type": "markdown",
   "metadata": {},
   "source": [
    "Сделали эту группу, чтобы протестировать модели."
   ]
  },
  {
   "cell_type": "markdown",
   "metadata": {},
   "source": [
    "небольшие изменения. Оказывается в проекте нужна еще и тестовая выборка, кроме валидационной. Сделали"
   ]
  },
  {
   "cell_type": "code",
   "execution_count": 17,
   "metadata": {
    "scrolled": true
   },
   "outputs": [
    {
     "data": {
      "text/plain": [
       "(2410, 4)"
      ]
     },
     "execution_count": 17,
     "metadata": {},
     "output_type": "execute_result"
    }
   ],
   "source": [
    "X_train.shape"
   ]
  },
  {
   "cell_type": "markdown",
   "metadata": {},
   "source": [
    "Разбиение готово. У меня разбито на две, так как я буду использовать кроссвалидацию, где выборки и так разбиваются на трейн и валидационную и постоянно меняются, чтобы уменьшить переобучение"
   ]
  },
  {
   "cell_type": "markdown",
   "metadata": {},
   "source": [
    "Пробежимся по всем известным на данный момент моделям, подходящим под задачу классификации, и посмотрим базовые скоры.\n",
    "у нас три изученных модели. Логистическая регресси, рандомный лес и дерево."
   ]
  },
  {
   "cell_type": "code",
   "execution_count": 18,
   "metadata": {},
   "outputs": [],
   "source": [
    "model_logit = LogisticRegression()"
   ]
  },
  {
   "cell_type": "code",
   "execution_count": 19,
   "metadata": {},
   "outputs": [],
   "source": [
    "model_tree = DecisionTreeClassifier(random_state=12345)"
   ]
  },
  {
   "cell_type": "code",
   "execution_count": 20,
   "metadata": {},
   "outputs": [],
   "source": [
    "model_forest = RandomForestClassifier(random_state=12345)"
   ]
  },
  {
   "cell_type": "code",
   "execution_count": 21,
   "metadata": {},
   "outputs": [
    {
     "data": {
      "text/plain": [
       "LogisticRegression()"
      ]
     },
     "execution_count": 21,
     "metadata": {},
     "output_type": "execute_result"
    }
   ],
   "source": [
    "model_logit.fit(X_train_1, y_train_1)"
   ]
  },
  {
   "cell_type": "code",
   "execution_count": 22,
   "metadata": {},
   "outputs": [
    {
     "data": {
      "text/plain": [
       "DecisionTreeClassifier(random_state=12345)"
      ]
     },
     "execution_count": 22,
     "metadata": {},
     "output_type": "execute_result"
    }
   ],
   "source": [
    "model_tree.fit(X_train_1, y_train_1)"
   ]
  },
  {
   "cell_type": "code",
   "execution_count": 23,
   "metadata": {},
   "outputs": [
    {
     "data": {
      "text/plain": [
       "RandomForestClassifier(random_state=12345)"
      ]
     },
     "execution_count": 23,
     "metadata": {},
     "output_type": "execute_result"
    }
   ],
   "source": [
    "model_forest.fit(X_train_1, y_train_1)"
   ]
  },
  {
   "cell_type": "code",
   "execution_count": 24,
   "metadata": {},
   "outputs": [],
   "source": [
    "predict_logit = model_logit.predict(X_valid)"
   ]
  },
  {
   "cell_type": "code",
   "execution_count": 25,
   "metadata": {},
   "outputs": [],
   "source": [
    "predict_tree = model_tree.predict(X_valid)"
   ]
  },
  {
   "cell_type": "code",
   "execution_count": 26,
   "metadata": {},
   "outputs": [],
   "source": [
    "predict_forest = model_forest.predict(X_valid)"
   ]
  },
  {
   "cell_type": "code",
   "execution_count": 27,
   "metadata": {},
   "outputs": [
    {
     "data": {
      "text/plain": [
       "0.7412935323383084"
      ]
     },
     "execution_count": 27,
     "metadata": {},
     "output_type": "execute_result"
    }
   ],
   "source": [
    "accuracy_logit = accuracy_score(predict_logit, y_valid)\n",
    "accuracy_logit"
   ]
  },
  {
   "cell_type": "code",
   "execution_count": 28,
   "metadata": {},
   "outputs": [
    {
     "data": {
      "text/plain": [
       "0.7429519071310116"
      ]
     },
     "execution_count": 28,
     "metadata": {},
     "output_type": "execute_result"
    }
   ],
   "source": [
    "accuracy_tree = accuracy_score(predict_tree, y_valid)\n",
    "accuracy_tree"
   ]
  },
  {
   "cell_type": "code",
   "execution_count": 29,
   "metadata": {},
   "outputs": [
    {
     "data": {
      "text/plain": [
       "0.824212271973466"
      ]
     },
     "execution_count": 29,
     "metadata": {},
     "output_type": "execute_result"
    }
   ],
   "source": [
    "accuracy_forest = accuracy_score(predict_forest, y_valid)\n",
    "accuracy_forest"
   ]
  },
  {
   "cell_type": "markdown",
   "metadata": {},
   "source": [
    "Базовый лес, лучше предсказывает. Значит его и будем пилить."
   ]
  },
  {
   "cell_type": "markdown",
   "metadata": {},
   "source": [
    "max_depth=None, min_samples_leaf=1, min_samples_split=2, n_estimators=10, n_jobs=-4, \n",
    "Основные гиперпараметры, которые мы будем пилить. Как я помню, дерево достаточно эффективно работает, если максимальная глубина не большая, зато количество деревьев большое(небольшой бустинг). Сделаем проверку через грид, и посмотрим какие параметры, будут наилучшими."
   ]
  },
  {
   "cell_type": "code",
   "execution_count": 30,
   "metadata": {},
   "outputs": [
    {
     "data": {
      "text/plain": [
       "dict_keys(['bootstrap', 'ccp_alpha', 'class_weight', 'criterion', 'max_depth', 'max_features', 'max_leaf_nodes', 'max_samples', 'min_impurity_decrease', 'min_impurity_split', 'min_samples_leaf', 'min_samples_split', 'min_weight_fraction_leaf', 'n_estimators', 'n_jobs', 'oob_score', 'random_state', 'verbose', 'warm_start'])"
      ]
     },
     "execution_count": 30,
     "metadata": {},
     "output_type": "execute_result"
    }
   ],
   "source": [
    "model_forest.get_params().keys()"
   ]
  },
  {
   "cell_type": "code",
   "execution_count": 31,
   "metadata": {},
   "outputs": [],
   "source": [
    "parametrs_grid = {'max_depth': range(2,10,2),\n",
    "                  'n_estimators' : range(10, 100, 10),\n",
    "                  'min_samples_leaf': range(1,10,2)\n",
    "    }"
   ]
  },
  {
   "cell_type": "markdown",
   "metadata": {},
   "source": [
    "Так, в выводе просят три гиперпараметра. Давайте добавим min_samples_leaf"
   ]
  },
  {
   "cell_type": "code",
   "execution_count": 32,
   "metadata": {},
   "outputs": [],
   "source": [
    "ss = ShuffleSplit(n_splits=5, test_size=0.25, random_state=12345)"
   ]
  },
  {
   "cell_type": "code",
   "execution_count": 33,
   "metadata": {},
   "outputs": [],
   "source": [
    "grid_cv = GridSearchCV(model_forest, parametrs_grid, scoring='f1', cv=ss, n_jobs=-1, verbose=1)"
   ]
  },
  {
   "cell_type": "code",
   "execution_count": 34,
   "metadata": {},
   "outputs": [
    {
     "name": "stdout",
     "output_type": "stream",
     "text": [
      "Fitting 5 folds for each of 180 candidates, totalling 900 fits\n"
     ]
    },
    {
     "name": "stderr",
     "output_type": "stream",
     "text": [
      "[Parallel(n_jobs=-1)]: Using backend LokyBackend with 4 concurrent workers.\n",
      "[Parallel(n_jobs=-1)]: Done  42 tasks      | elapsed:    3.5s\n",
      "[Parallel(n_jobs=-1)]: Done 272 tasks      | elapsed:   11.7s\n",
      "[Parallel(n_jobs=-1)]: Done 772 tasks      | elapsed:   32.6s\n"
     ]
    },
    {
     "name": "stdout",
     "output_type": "stream",
     "text": [
      "Wall time: 39.1 s\n"
     ]
    },
    {
     "name": "stderr",
     "output_type": "stream",
     "text": [
      "[Parallel(n_jobs=-1)]: Done 900 out of 900 | elapsed:   38.8s finished\n"
     ]
    },
    {
     "data": {
      "text/plain": [
       "GridSearchCV(cv=ShuffleSplit(n_splits=5, random_state=12345, test_size=0.25, train_size=None),\n",
       "             estimator=RandomForestClassifier(random_state=12345), n_jobs=-1,\n",
       "             param_grid={'max_depth': range(2, 10, 2),\n",
       "                         'min_samples_leaf': range(1, 10, 2),\n",
       "                         'n_estimators': range(10, 100, 10)},\n",
       "             scoring='f1', verbose=1)"
      ]
     },
     "execution_count": 34,
     "metadata": {},
     "output_type": "execute_result"
    }
   ],
   "source": [
    "%%time\n",
    "grid_cv.fit(X_train, y_train)"
   ]
  },
  {
   "cell_type": "markdown",
   "metadata": {},
   "source": [
    "Попросил его протестировать 52000 разных выборок параметров))) Думаю, это многовато. 900 в самый раз для проекта."
   ]
  },
  {
   "cell_type": "code",
   "execution_count": 35,
   "metadata": {},
   "outputs": [
    {
     "data": {
      "text/plain": [
       "RandomForestClassifier(max_depth=8, min_samples_leaf=9, n_estimators=40,\n",
       "                       random_state=12345)"
      ]
     },
     "execution_count": 35,
     "metadata": {},
     "output_type": "execute_result"
    }
   ],
   "source": [
    "grid_cv.best_estimator_"
   ]
  },
  {
   "cell_type": "markdown",
   "metadata": {},
   "source": [
    "А вот и наш победитель! глубина 8, 40 - кол-во деревьев, min_samples_leaf=9"
   ]
  },
  {
   "cell_type": "code",
   "execution_count": 36,
   "metadata": {},
   "outputs": [
    {
     "data": {
      "text/plain": [
       "0.6443316135895104"
      ]
     },
     "execution_count": 36,
     "metadata": {},
     "output_type": "execute_result"
    }
   ],
   "source": [
    "grid_cv.best_score_"
   ]
  },
  {
   "cell_type": "markdown",
   "metadata": {},
   "source": [
    "0.806 скор. Достаточно хороший."
   ]
  },
  {
   "cell_type": "code",
   "execution_count": 37,
   "metadata": {},
   "outputs": [],
   "source": [
    "model_forest_last = grid_cv.best_estimator_"
   ]
  },
  {
   "cell_type": "code",
   "execution_count": 38,
   "metadata": {},
   "outputs": [],
   "source": [
    "predict_test = model_forest_last.predict(X_test)"
   ]
  },
  {
   "cell_type": "code",
   "execution_count": 39,
   "metadata": {},
   "outputs": [],
   "source": [
    "accuracy = accuracy_score(predict_test, y_test)"
   ]
  },
  {
   "cell_type": "code",
   "execution_count": 40,
   "metadata": {},
   "outputs": [
    {
     "data": {
      "text/plain": [
       "0.804726368159204"
      ]
     },
     "execution_count": 40,
     "metadata": {},
     "output_type": "execute_result"
    }
   ],
   "source": [
    "accuracy"
   ]
  },
  {
   "cell_type": "markdown",
   "metadata": {},
   "source": [
    "<h3>Вывод</h3>\n",
    "\n",
    "По результатам исследования, в нашей задаче, из изученных нами моделей лучше всего показывает себя рандомный лес. Скор я думаю можно немного улучшить, запустив грид на большее кол-во вариаций. Думаю, это не так важно, в рамках этого проекта. Мы добились скора 0.80 на тестовой выборке. Для прохождения от нас требуется 0.75\n",
    "\n",
    "Если проверяющие разрешат, тут можно попробывать различные бустинги. Думаю они поднимут скор. \n",
    "\n",
    "Понимаю, что это только первая тема. Только введение, но было просто."
   ]
  },
  {
   "cell_type": "code",
   "execution_count": 41,
   "metadata": {},
   "outputs": [],
   "source": [
    "grid_results = pd.DataFrame(grid_cv.cv_results_)"
   ]
  },
  {
   "cell_type": "code",
   "execution_count": 42,
   "metadata": {},
   "outputs": [
    {
     "data": {
      "text/html": [
       "<div>\n",
       "<style scoped>\n",
       "    .dataframe tbody tr th:only-of-type {\n",
       "        vertical-align: middle;\n",
       "    }\n",
       "\n",
       "    .dataframe tbody tr th {\n",
       "        vertical-align: top;\n",
       "    }\n",
       "\n",
       "    .dataframe thead th {\n",
       "        text-align: right;\n",
       "    }\n",
       "</style>\n",
       "<table border=\"1\" class=\"dataframe\">\n",
       "  <thead>\n",
       "    <tr style=\"text-align: right;\">\n",
       "      <th></th>\n",
       "      <th>mean_fit_time</th>\n",
       "      <th>std_fit_time</th>\n",
       "      <th>mean_score_time</th>\n",
       "      <th>std_score_time</th>\n",
       "      <th>param_max_depth</th>\n",
       "      <th>param_min_samples_leaf</th>\n",
       "      <th>param_n_estimators</th>\n",
       "      <th>params</th>\n",
       "      <th>split0_test_score</th>\n",
       "      <th>split1_test_score</th>\n",
       "      <th>split2_test_score</th>\n",
       "      <th>split3_test_score</th>\n",
       "      <th>split4_test_score</th>\n",
       "      <th>mean_test_score</th>\n",
       "      <th>std_test_score</th>\n",
       "      <th>rank_test_score</th>\n",
       "    </tr>\n",
       "  </thead>\n",
       "  <tbody>\n",
       "    <tr>\n",
       "      <th>0</th>\n",
       "      <td>0.033311</td>\n",
       "      <td>0.004786</td>\n",
       "      <td>0.010372</td>\n",
       "      <td>0.006451</td>\n",
       "      <td>2</td>\n",
       "      <td>1</td>\n",
       "      <td>10</td>\n",
       "      <td>{'max_depth': 2, 'min_samples_leaf': 1, 'n_est...</td>\n",
       "      <td>0.441065</td>\n",
       "      <td>0.479452</td>\n",
       "      <td>0.493421</td>\n",
       "      <td>0.533333</td>\n",
       "      <td>0.530351</td>\n",
       "      <td>0.495525</td>\n",
       "      <td>0.034267</td>\n",
       "      <td>176</td>\n",
       "    </tr>\n",
       "    <tr>\n",
       "      <th>1</th>\n",
       "      <td>0.066821</td>\n",
       "      <td>0.003989</td>\n",
       "      <td>0.007580</td>\n",
       "      <td>0.001621</td>\n",
       "      <td>2</td>\n",
       "      <td>1</td>\n",
       "      <td>20</td>\n",
       "      <td>{'max_depth': 2, 'min_samples_leaf': 1, 'n_est...</td>\n",
       "      <td>0.567657</td>\n",
       "      <td>0.479452</td>\n",
       "      <td>0.513158</td>\n",
       "      <td>0.527559</td>\n",
       "      <td>0.540373</td>\n",
       "      <td>0.525640</td>\n",
       "      <td>0.029241</td>\n",
       "      <td>141</td>\n",
       "    </tr>\n",
       "    <tr>\n",
       "      <th>2</th>\n",
       "      <td>0.115291</td>\n",
       "      <td>0.009390</td>\n",
       "      <td>0.014362</td>\n",
       "      <td>0.003489</td>\n",
       "      <td>2</td>\n",
       "      <td>1</td>\n",
       "      <td>30</td>\n",
       "      <td>{'max_depth': 2, 'min_samples_leaf': 1, 'n_est...</td>\n",
       "      <td>0.566775</td>\n",
       "      <td>0.477816</td>\n",
       "      <td>0.521452</td>\n",
       "      <td>0.517647</td>\n",
       "      <td>0.532915</td>\n",
       "      <td>0.523321</td>\n",
       "      <td>0.028589</td>\n",
       "      <td>165</td>\n",
       "    </tr>\n",
       "    <tr>\n",
       "      <th>3</th>\n",
       "      <td>0.115889</td>\n",
       "      <td>0.007063</td>\n",
       "      <td>0.011370</td>\n",
       "      <td>0.002998</td>\n",
       "      <td>2</td>\n",
       "      <td>1</td>\n",
       "      <td>40</td>\n",
       "      <td>{'max_depth': 2, 'min_samples_leaf': 1, 'n_est...</td>\n",
       "      <td>0.569579</td>\n",
       "      <td>0.482993</td>\n",
       "      <td>0.516556</td>\n",
       "      <td>0.519685</td>\n",
       "      <td>0.532915</td>\n",
       "      <td>0.524346</td>\n",
       "      <td>0.027971</td>\n",
       "      <td>151</td>\n",
       "    </tr>\n",
       "    <tr>\n",
       "      <th>4</th>\n",
       "      <td>0.132246</td>\n",
       "      <td>0.005733</td>\n",
       "      <td>0.011569</td>\n",
       "      <td>0.001017</td>\n",
       "      <td>2</td>\n",
       "      <td>1</td>\n",
       "      <td>50</td>\n",
       "      <td>{'max_depth': 2, 'min_samples_leaf': 1, 'n_est...</td>\n",
       "      <td>0.566775</td>\n",
       "      <td>0.482993</td>\n",
       "      <td>0.516556</td>\n",
       "      <td>0.517647</td>\n",
       "      <td>0.528302</td>\n",
       "      <td>0.522455</td>\n",
       "      <td>0.026884</td>\n",
       "      <td>170</td>\n",
       "    </tr>\n",
       "  </tbody>\n",
       "</table>\n",
       "</div>"
      ],
      "text/plain": [
       "   mean_fit_time  std_fit_time  mean_score_time  std_score_time  \\\n",
       "0       0.033311      0.004786         0.010372        0.006451   \n",
       "1       0.066821      0.003989         0.007580        0.001621   \n",
       "2       0.115291      0.009390         0.014362        0.003489   \n",
       "3       0.115889      0.007063         0.011370        0.002998   \n",
       "4       0.132246      0.005733         0.011569        0.001017   \n",
       "\n",
       "  param_max_depth param_min_samples_leaf param_n_estimators  \\\n",
       "0               2                      1                 10   \n",
       "1               2                      1                 20   \n",
       "2               2                      1                 30   \n",
       "3               2                      1                 40   \n",
       "4               2                      1                 50   \n",
       "\n",
       "                                              params  split0_test_score  \\\n",
       "0  {'max_depth': 2, 'min_samples_leaf': 1, 'n_est...           0.441065   \n",
       "1  {'max_depth': 2, 'min_samples_leaf': 1, 'n_est...           0.567657   \n",
       "2  {'max_depth': 2, 'min_samples_leaf': 1, 'n_est...           0.566775   \n",
       "3  {'max_depth': 2, 'min_samples_leaf': 1, 'n_est...           0.569579   \n",
       "4  {'max_depth': 2, 'min_samples_leaf': 1, 'n_est...           0.566775   \n",
       "\n",
       "   split1_test_score  split2_test_score  split3_test_score  split4_test_score  \\\n",
       "0           0.479452           0.493421           0.533333           0.530351   \n",
       "1           0.479452           0.513158           0.527559           0.540373   \n",
       "2           0.477816           0.521452           0.517647           0.532915   \n",
       "3           0.482993           0.516556           0.519685           0.532915   \n",
       "4           0.482993           0.516556           0.517647           0.528302   \n",
       "\n",
       "   mean_test_score  std_test_score  rank_test_score  \n",
       "0         0.495525        0.034267              176  \n",
       "1         0.525640        0.029241              141  \n",
       "2         0.523321        0.028589              165  \n",
       "3         0.524346        0.027971              151  \n",
       "4         0.522455        0.026884              170  "
      ]
     },
     "execution_count": 42,
     "metadata": {},
     "output_type": "execute_result"
    }
   ],
   "source": [
    "grid_results.head()"
   ]
  },
  {
   "cell_type": "code",
   "execution_count": 43,
   "metadata": {
    "scrolled": true
   },
   "outputs": [
    {
     "data": {
      "text/html": [
       "<div>\n",
       "<style scoped>\n",
       "    .dataframe tbody tr th:only-of-type {\n",
       "        vertical-align: middle;\n",
       "    }\n",
       "\n",
       "    .dataframe tbody tr th {\n",
       "        vertical-align: top;\n",
       "    }\n",
       "\n",
       "    .dataframe thead th {\n",
       "        text-align: right;\n",
       "    }\n",
       "</style>\n",
       "<table border=\"1\" class=\"dataframe\">\n",
       "  <thead>\n",
       "    <tr style=\"text-align: right;\">\n",
       "      <th></th>\n",
       "      <th>mean_fit_time</th>\n",
       "      <th>std_fit_time</th>\n",
       "      <th>mean_score_time</th>\n",
       "      <th>std_score_time</th>\n",
       "      <th>param_max_depth</th>\n",
       "      <th>param_min_samples_leaf</th>\n",
       "      <th>param_n_estimators</th>\n",
       "      <th>params</th>\n",
       "      <th>split0_test_score</th>\n",
       "      <th>split1_test_score</th>\n",
       "      <th>split2_test_score</th>\n",
       "      <th>split3_test_score</th>\n",
       "      <th>split4_test_score</th>\n",
       "      <th>mean_test_score</th>\n",
       "      <th>std_test_score</th>\n",
       "      <th>rank_test_score</th>\n",
       "    </tr>\n",
       "  </thead>\n",
       "  <tbody>\n",
       "    <tr>\n",
       "      <th>174</th>\n",
       "      <td>0.138430</td>\n",
       "      <td>0.004610</td>\n",
       "      <td>0.009774</td>\n",
       "      <td>0.000399</td>\n",
       "      <td>8</td>\n",
       "      <td>9</td>\n",
       "      <td>40</td>\n",
       "      <td>{'max_depth': 8, 'min_samples_leaf': 9, 'n_est...</td>\n",
       "      <td>0.692537</td>\n",
       "      <td>0.636905</td>\n",
       "      <td>0.641176</td>\n",
       "      <td>0.615942</td>\n",
       "      <td>0.635097</td>\n",
       "      <td>0.644332</td>\n",
       "      <td>0.025613</td>\n",
       "      <td>1</td>\n",
       "    </tr>\n",
       "    <tr>\n",
       "      <th>179</th>\n",
       "      <td>0.296612</td>\n",
       "      <td>0.010860</td>\n",
       "      <td>0.017155</td>\n",
       "      <td>0.000747</td>\n",
       "      <td>8</td>\n",
       "      <td>9</td>\n",
       "      <td>90</td>\n",
       "      <td>{'max_depth': 8, 'min_samples_leaf': 9, 'n_est...</td>\n",
       "      <td>0.684685</td>\n",
       "      <td>0.629080</td>\n",
       "      <td>0.646884</td>\n",
       "      <td>0.625455</td>\n",
       "      <td>0.623596</td>\n",
       "      <td>0.641940</td>\n",
       "      <td>0.022914</td>\n",
       "      <td>2</td>\n",
       "    </tr>\n",
       "    <tr>\n",
       "      <th>176</th>\n",
       "      <td>0.198269</td>\n",
       "      <td>0.009279</td>\n",
       "      <td>0.013165</td>\n",
       "      <td>0.001163</td>\n",
       "      <td>8</td>\n",
       "      <td>9</td>\n",
       "      <td>60</td>\n",
       "      <td>{'max_depth': 8, 'min_samples_leaf': 9, 'n_est...</td>\n",
       "      <td>0.688623</td>\n",
       "      <td>0.628743</td>\n",
       "      <td>0.639053</td>\n",
       "      <td>0.615942</td>\n",
       "      <td>0.637119</td>\n",
       "      <td>0.641896</td>\n",
       "      <td>0.024742</td>\n",
       "      <td>3</td>\n",
       "    </tr>\n",
       "    <tr>\n",
       "      <th>155</th>\n",
       "      <td>0.105916</td>\n",
       "      <td>0.006950</td>\n",
       "      <td>0.008577</td>\n",
       "      <td>0.002239</td>\n",
       "      <td>8</td>\n",
       "      <td>5</td>\n",
       "      <td>30</td>\n",
       "      <td>{'max_depth': 8, 'min_samples_leaf': 5, 'n_est...</td>\n",
       "      <td>0.686930</td>\n",
       "      <td>0.623529</td>\n",
       "      <td>0.639053</td>\n",
       "      <td>0.612546</td>\n",
       "      <td>0.646409</td>\n",
       "      <td>0.641694</td>\n",
       "      <td>0.025515</td>\n",
       "      <td>4</td>\n",
       "    </tr>\n",
       "    <tr>\n",
       "      <th>175</th>\n",
       "      <td>0.179718</td>\n",
       "      <td>0.009941</td>\n",
       "      <td>0.012367</td>\n",
       "      <td>0.001850</td>\n",
       "      <td>8</td>\n",
       "      <td>9</td>\n",
       "      <td>50</td>\n",
       "      <td>{'max_depth': 8, 'min_samples_leaf': 9, 'n_est...</td>\n",
       "      <td>0.682779</td>\n",
       "      <td>0.632530</td>\n",
       "      <td>0.637168</td>\n",
       "      <td>0.615942</td>\n",
       "      <td>0.635097</td>\n",
       "      <td>0.640703</td>\n",
       "      <td>0.022335</td>\n",
       "      <td>5</td>\n",
       "    </tr>\n",
       "    <tr>\n",
       "      <th>154</th>\n",
       "      <td>0.068017</td>\n",
       "      <td>0.000746</td>\n",
       "      <td>0.006982</td>\n",
       "      <td>0.001093</td>\n",
       "      <td>8</td>\n",
       "      <td>5</td>\n",
       "      <td>20</td>\n",
       "      <td>{'max_depth': 8, 'min_samples_leaf': 5, 'n_est...</td>\n",
       "      <td>0.678571</td>\n",
       "      <td>0.619048</td>\n",
       "      <td>0.640950</td>\n",
       "      <td>0.612546</td>\n",
       "      <td>0.651811</td>\n",
       "      <td>0.640585</td>\n",
       "      <td>0.023745</td>\n",
       "      <td>6</td>\n",
       "    </tr>\n",
       "    <tr>\n",
       "      <th>170</th>\n",
       "      <td>0.292417</td>\n",
       "      <td>0.002918</td>\n",
       "      <td>0.017753</td>\n",
       "      <td>0.000747</td>\n",
       "      <td>8</td>\n",
       "      <td>7</td>\n",
       "      <td>90</td>\n",
       "      <td>{'max_depth': 8, 'min_samples_leaf': 7, 'n_est...</td>\n",
       "      <td>0.678788</td>\n",
       "      <td>0.628743</td>\n",
       "      <td>0.637168</td>\n",
       "      <td>0.625455</td>\n",
       "      <td>0.630682</td>\n",
       "      <td>0.640167</td>\n",
       "      <td>0.019685</td>\n",
       "      <td>7</td>\n",
       "    </tr>\n",
       "    <tr>\n",
       "      <th>168</th>\n",
       "      <td>0.232578</td>\n",
       "      <td>0.004250</td>\n",
       "      <td>0.014761</td>\n",
       "      <td>0.001163</td>\n",
       "      <td>8</td>\n",
       "      <td>7</td>\n",
       "      <td>70</td>\n",
       "      <td>{'max_depth': 8, 'min_samples_leaf': 7, 'n_est...</td>\n",
       "      <td>0.678788</td>\n",
       "      <td>0.620896</td>\n",
       "      <td>0.635015</td>\n",
       "      <td>0.628159</td>\n",
       "      <td>0.632768</td>\n",
       "      <td>0.639125</td>\n",
       "      <td>0.020411</td>\n",
       "      <td>8</td>\n",
       "    </tr>\n",
       "    <tr>\n",
       "      <th>169</th>\n",
       "      <td>0.274864</td>\n",
       "      <td>0.012434</td>\n",
       "      <td>0.015758</td>\n",
       "      <td>0.000399</td>\n",
       "      <td>8</td>\n",
       "      <td>7</td>\n",
       "      <td>80</td>\n",
       "      <td>{'max_depth': 8, 'min_samples_leaf': 7, 'n_est...</td>\n",
       "      <td>0.674772</td>\n",
       "      <td>0.622754</td>\n",
       "      <td>0.636905</td>\n",
       "      <td>0.625899</td>\n",
       "      <td>0.634561</td>\n",
       "      <td>0.638978</td>\n",
       "      <td>0.018651</td>\n",
       "      <td>9</td>\n",
       "    </tr>\n",
       "    <tr>\n",
       "      <th>163</th>\n",
       "      <td>0.067818</td>\n",
       "      <td>0.001262</td>\n",
       "      <td>0.006184</td>\n",
       "      <td>0.000399</td>\n",
       "      <td>8</td>\n",
       "      <td>7</td>\n",
       "      <td>20</td>\n",
       "      <td>{'max_depth': 8, 'min_samples_leaf': 7, 'n_est...</td>\n",
       "      <td>0.680723</td>\n",
       "      <td>0.629412</td>\n",
       "      <td>0.637931</td>\n",
       "      <td>0.605839</td>\n",
       "      <td>0.640449</td>\n",
       "      <td>0.638871</td>\n",
       "      <td>0.024230</td>\n",
       "      <td>10</td>\n",
       "    </tr>\n",
       "    <tr>\n",
       "      <th>166</th>\n",
       "      <td>0.170344</td>\n",
       "      <td>0.016198</td>\n",
       "      <td>0.010771</td>\n",
       "      <td>0.000399</td>\n",
       "      <td>8</td>\n",
       "      <td>7</td>\n",
       "      <td>50</td>\n",
       "      <td>{'max_depth': 8, 'min_samples_leaf': 7, 'n_est...</td>\n",
       "      <td>0.676737</td>\n",
       "      <td>0.622754</td>\n",
       "      <td>0.633136</td>\n",
       "      <td>0.628159</td>\n",
       "      <td>0.632768</td>\n",
       "      <td>0.638711</td>\n",
       "      <td>0.019382</td>\n",
       "      <td>11</td>\n",
       "    </tr>\n",
       "    <tr>\n",
       "      <th>150</th>\n",
       "      <td>0.230782</td>\n",
       "      <td>0.003373</td>\n",
       "      <td>0.015359</td>\n",
       "      <td>0.001850</td>\n",
       "      <td>8</td>\n",
       "      <td>3</td>\n",
       "      <td>70</td>\n",
       "      <td>{'max_depth': 8, 'min_samples_leaf': 3, 'n_est...</td>\n",
       "      <td>0.672783</td>\n",
       "      <td>0.626866</td>\n",
       "      <td>0.632530</td>\n",
       "      <td>0.620438</td>\n",
       "      <td>0.640449</td>\n",
       "      <td>0.638613</td>\n",
       "      <td>0.018310</td>\n",
       "      <td>12</td>\n",
       "    </tr>\n",
       "    <tr>\n",
       "      <th>178</th>\n",
       "      <td>0.283441</td>\n",
       "      <td>0.012948</td>\n",
       "      <td>0.016556</td>\n",
       "      <td>0.000798</td>\n",
       "      <td>8</td>\n",
       "      <td>9</td>\n",
       "      <td>80</td>\n",
       "      <td>{'max_depth': 8, 'min_samples_leaf': 9, 'n_est...</td>\n",
       "      <td>0.682635</td>\n",
       "      <td>0.626866</td>\n",
       "      <td>0.638806</td>\n",
       "      <td>0.618182</td>\n",
       "      <td>0.625352</td>\n",
       "      <td>0.638368</td>\n",
       "      <td>0.023104</td>\n",
       "      <td>13</td>\n",
       "    </tr>\n",
       "    <tr>\n",
       "      <th>157</th>\n",
       "      <td>0.168150</td>\n",
       "      <td>0.001954</td>\n",
       "      <td>0.011769</td>\n",
       "      <td>0.000747</td>\n",
       "      <td>8</td>\n",
       "      <td>5</td>\n",
       "      <td>50</td>\n",
       "      <td>{'max_depth': 8, 'min_samples_leaf': 5, 'n_est...</td>\n",
       "      <td>0.680982</td>\n",
       "      <td>0.627219</td>\n",
       "      <td>0.639053</td>\n",
       "      <td>0.615385</td>\n",
       "      <td>0.627778</td>\n",
       "      <td>0.638083</td>\n",
       "      <td>0.022719</td>\n",
       "      <td>14</td>\n",
       "    </tr>\n",
       "    <tr>\n",
       "      <th>177</th>\n",
       "      <td>0.232777</td>\n",
       "      <td>0.008799</td>\n",
       "      <td>0.014362</td>\n",
       "      <td>0.000489</td>\n",
       "      <td>8</td>\n",
       "      <td>9</td>\n",
       "      <td>70</td>\n",
       "      <td>{'max_depth': 8, 'min_samples_leaf': 9, 'n_est...</td>\n",
       "      <td>0.688623</td>\n",
       "      <td>0.626866</td>\n",
       "      <td>0.635015</td>\n",
       "      <td>0.613139</td>\n",
       "      <td>0.625698</td>\n",
       "      <td>0.637868</td>\n",
       "      <td>0.026324</td>\n",
       "      <td>15</td>\n",
       "    </tr>\n",
       "    <tr>\n",
       "      <th>167</th>\n",
       "      <td>0.195078</td>\n",
       "      <td>0.001492</td>\n",
       "      <td>0.012367</td>\n",
       "      <td>0.000489</td>\n",
       "      <td>8</td>\n",
       "      <td>7</td>\n",
       "      <td>60</td>\n",
       "      <td>{'max_depth': 8, 'min_samples_leaf': 7, 'n_est...</td>\n",
       "      <td>0.670732</td>\n",
       "      <td>0.622754</td>\n",
       "      <td>0.636905</td>\n",
       "      <td>0.625455</td>\n",
       "      <td>0.632768</td>\n",
       "      <td>0.637723</td>\n",
       "      <td>0.017259</td>\n",
       "      <td>16</td>\n",
       "    </tr>\n",
       "    <tr>\n",
       "      <th>161</th>\n",
       "      <td>0.310968</td>\n",
       "      <td>0.010694</td>\n",
       "      <td>0.018551</td>\n",
       "      <td>0.001197</td>\n",
       "      <td>8</td>\n",
       "      <td>5</td>\n",
       "      <td>90</td>\n",
       "      <td>{'max_depth': 8, 'min_samples_leaf': 5, 'n_est...</td>\n",
       "      <td>0.670769</td>\n",
       "      <td>0.622754</td>\n",
       "      <td>0.640719</td>\n",
       "      <td>0.617647</td>\n",
       "      <td>0.636620</td>\n",
       "      <td>0.637702</td>\n",
       "      <td>0.018598</td>\n",
       "      <td>17</td>\n",
       "    </tr>\n",
       "    <tr>\n",
       "      <th>159</th>\n",
       "      <td>0.233176</td>\n",
       "      <td>0.003051</td>\n",
       "      <td>0.015160</td>\n",
       "      <td>0.001934</td>\n",
       "      <td>8</td>\n",
       "      <td>5</td>\n",
       "      <td>70</td>\n",
       "      <td>{'max_depth': 8, 'min_samples_leaf': 5, 'n_est...</td>\n",
       "      <td>0.676923</td>\n",
       "      <td>0.625369</td>\n",
       "      <td>0.636905</td>\n",
       "      <td>0.619926</td>\n",
       "      <td>0.629213</td>\n",
       "      <td>0.637667</td>\n",
       "      <td>0.020391</td>\n",
       "      <td>18</td>\n",
       "    </tr>\n",
       "    <tr>\n",
       "      <th>160</th>\n",
       "      <td>0.281248</td>\n",
       "      <td>0.016327</td>\n",
       "      <td>0.015958</td>\n",
       "      <td>0.000892</td>\n",
       "      <td>8</td>\n",
       "      <td>5</td>\n",
       "      <td>80</td>\n",
       "      <td>{'max_depth': 8, 'min_samples_leaf': 5, 'n_est...</td>\n",
       "      <td>0.674847</td>\n",
       "      <td>0.620896</td>\n",
       "      <td>0.634731</td>\n",
       "      <td>0.622711</td>\n",
       "      <td>0.634831</td>\n",
       "      <td>0.637603</td>\n",
       "      <td>0.019514</td>\n",
       "      <td>19</td>\n",
       "    </tr>\n",
       "    <tr>\n",
       "      <th>152</th>\n",
       "      <td>0.304984</td>\n",
       "      <td>0.003857</td>\n",
       "      <td>0.017553</td>\n",
       "      <td>0.000489</td>\n",
       "      <td>8</td>\n",
       "      <td>3</td>\n",
       "      <td>90</td>\n",
       "      <td>{'max_depth': 8, 'min_samples_leaf': 3, 'n_est...</td>\n",
       "      <td>0.668712</td>\n",
       "      <td>0.633136</td>\n",
       "      <td>0.630303</td>\n",
       "      <td>0.618182</td>\n",
       "      <td>0.636364</td>\n",
       "      <td>0.637339</td>\n",
       "      <td>0.016849</td>\n",
       "      <td>20</td>\n",
       "    </tr>\n",
       "  </tbody>\n",
       "</table>\n",
       "</div>"
      ],
      "text/plain": [
       "     mean_fit_time  std_fit_time  mean_score_time  std_score_time  \\\n",
       "174       0.138430      0.004610         0.009774        0.000399   \n",
       "179       0.296612      0.010860         0.017155        0.000747   \n",
       "176       0.198269      0.009279         0.013165        0.001163   \n",
       "155       0.105916      0.006950         0.008577        0.002239   \n",
       "175       0.179718      0.009941         0.012367        0.001850   \n",
       "154       0.068017      0.000746         0.006982        0.001093   \n",
       "170       0.292417      0.002918         0.017753        0.000747   \n",
       "168       0.232578      0.004250         0.014761        0.001163   \n",
       "169       0.274864      0.012434         0.015758        0.000399   \n",
       "163       0.067818      0.001262         0.006184        0.000399   \n",
       "166       0.170344      0.016198         0.010771        0.000399   \n",
       "150       0.230782      0.003373         0.015359        0.001850   \n",
       "178       0.283441      0.012948         0.016556        0.000798   \n",
       "157       0.168150      0.001954         0.011769        0.000747   \n",
       "177       0.232777      0.008799         0.014362        0.000489   \n",
       "167       0.195078      0.001492         0.012367        0.000489   \n",
       "161       0.310968      0.010694         0.018551        0.001197   \n",
       "159       0.233176      0.003051         0.015160        0.001934   \n",
       "160       0.281248      0.016327         0.015958        0.000892   \n",
       "152       0.304984      0.003857         0.017553        0.000489   \n",
       "\n",
       "    param_max_depth param_min_samples_leaf param_n_estimators  \\\n",
       "174               8                      9                 40   \n",
       "179               8                      9                 90   \n",
       "176               8                      9                 60   \n",
       "155               8                      5                 30   \n",
       "175               8                      9                 50   \n",
       "154               8                      5                 20   \n",
       "170               8                      7                 90   \n",
       "168               8                      7                 70   \n",
       "169               8                      7                 80   \n",
       "163               8                      7                 20   \n",
       "166               8                      7                 50   \n",
       "150               8                      3                 70   \n",
       "178               8                      9                 80   \n",
       "157               8                      5                 50   \n",
       "177               8                      9                 70   \n",
       "167               8                      7                 60   \n",
       "161               8                      5                 90   \n",
       "159               8                      5                 70   \n",
       "160               8                      5                 80   \n",
       "152               8                      3                 90   \n",
       "\n",
       "                                                params  split0_test_score  \\\n",
       "174  {'max_depth': 8, 'min_samples_leaf': 9, 'n_est...           0.692537   \n",
       "179  {'max_depth': 8, 'min_samples_leaf': 9, 'n_est...           0.684685   \n",
       "176  {'max_depth': 8, 'min_samples_leaf': 9, 'n_est...           0.688623   \n",
       "155  {'max_depth': 8, 'min_samples_leaf': 5, 'n_est...           0.686930   \n",
       "175  {'max_depth': 8, 'min_samples_leaf': 9, 'n_est...           0.682779   \n",
       "154  {'max_depth': 8, 'min_samples_leaf': 5, 'n_est...           0.678571   \n",
       "170  {'max_depth': 8, 'min_samples_leaf': 7, 'n_est...           0.678788   \n",
       "168  {'max_depth': 8, 'min_samples_leaf': 7, 'n_est...           0.678788   \n",
       "169  {'max_depth': 8, 'min_samples_leaf': 7, 'n_est...           0.674772   \n",
       "163  {'max_depth': 8, 'min_samples_leaf': 7, 'n_est...           0.680723   \n",
       "166  {'max_depth': 8, 'min_samples_leaf': 7, 'n_est...           0.676737   \n",
       "150  {'max_depth': 8, 'min_samples_leaf': 3, 'n_est...           0.672783   \n",
       "178  {'max_depth': 8, 'min_samples_leaf': 9, 'n_est...           0.682635   \n",
       "157  {'max_depth': 8, 'min_samples_leaf': 5, 'n_est...           0.680982   \n",
       "177  {'max_depth': 8, 'min_samples_leaf': 9, 'n_est...           0.688623   \n",
       "167  {'max_depth': 8, 'min_samples_leaf': 7, 'n_est...           0.670732   \n",
       "161  {'max_depth': 8, 'min_samples_leaf': 5, 'n_est...           0.670769   \n",
       "159  {'max_depth': 8, 'min_samples_leaf': 5, 'n_est...           0.676923   \n",
       "160  {'max_depth': 8, 'min_samples_leaf': 5, 'n_est...           0.674847   \n",
       "152  {'max_depth': 8, 'min_samples_leaf': 3, 'n_est...           0.668712   \n",
       "\n",
       "     split1_test_score  split2_test_score  split3_test_score  \\\n",
       "174           0.636905           0.641176           0.615942   \n",
       "179           0.629080           0.646884           0.625455   \n",
       "176           0.628743           0.639053           0.615942   \n",
       "155           0.623529           0.639053           0.612546   \n",
       "175           0.632530           0.637168           0.615942   \n",
       "154           0.619048           0.640950           0.612546   \n",
       "170           0.628743           0.637168           0.625455   \n",
       "168           0.620896           0.635015           0.628159   \n",
       "169           0.622754           0.636905           0.625899   \n",
       "163           0.629412           0.637931           0.605839   \n",
       "166           0.622754           0.633136           0.628159   \n",
       "150           0.626866           0.632530           0.620438   \n",
       "178           0.626866           0.638806           0.618182   \n",
       "157           0.627219           0.639053           0.615385   \n",
       "177           0.626866           0.635015           0.613139   \n",
       "167           0.622754           0.636905           0.625455   \n",
       "161           0.622754           0.640719           0.617647   \n",
       "159           0.625369           0.636905           0.619926   \n",
       "160           0.620896           0.634731           0.622711   \n",
       "152           0.633136           0.630303           0.618182   \n",
       "\n",
       "     split4_test_score  mean_test_score  std_test_score  rank_test_score  \n",
       "174           0.635097         0.644332        0.025613                1  \n",
       "179           0.623596         0.641940        0.022914                2  \n",
       "176           0.637119         0.641896        0.024742                3  \n",
       "155           0.646409         0.641694        0.025515                4  \n",
       "175           0.635097         0.640703        0.022335                5  \n",
       "154           0.651811         0.640585        0.023745                6  \n",
       "170           0.630682         0.640167        0.019685                7  \n",
       "168           0.632768         0.639125        0.020411                8  \n",
       "169           0.634561         0.638978        0.018651                9  \n",
       "163           0.640449         0.638871        0.024230               10  \n",
       "166           0.632768         0.638711        0.019382               11  \n",
       "150           0.640449         0.638613        0.018310               12  \n",
       "178           0.625352         0.638368        0.023104               13  \n",
       "157           0.627778         0.638083        0.022719               14  \n",
       "177           0.625698         0.637868        0.026324               15  \n",
       "167           0.632768         0.637723        0.017259               16  \n",
       "161           0.636620         0.637702        0.018598               17  \n",
       "159           0.629213         0.637667        0.020391               18  \n",
       "160           0.634831         0.637603        0.019514               19  \n",
       "152           0.636364         0.637339        0.016849               20  "
      ]
     },
     "execution_count": 43,
     "metadata": {},
     "output_type": "execute_result"
    }
   ],
   "source": [
    "grid_results.sort_values('mean_test_score', ascending=False).head(20)"
   ]
  },
  {
   "cell_type": "markdown",
   "metadata": {},
   "source": [
    "Из этой таблицы, мы можем видеть, что гиперпараметр глубина деревьев леса, самый важный(в данном случае)"
   ]
  },
  {
   "cell_type": "code",
   "execution_count": 44,
   "metadata": {},
   "outputs": [
    {
     "data": {
      "text/plain": [
       "0.2997512437810945"
      ]
     },
     "execution_count": 44,
     "metadata": {},
     "output_type": "execute_result"
    }
   ],
   "source": [
    "y_test.mean()"
   ]
  },
  {
   "cell_type": "code",
   "execution_count": 45,
   "metadata": {},
   "outputs": [
    {
     "data": {
      "text/plain": [
       "0.7002487562189055"
      ]
     },
     "execution_count": 45,
     "metadata": {},
     "output_type": "execute_result"
    }
   ],
   "source": [
    "1 - y_test.mean()"
   ]
  },
  {
   "cell_type": "markdown",
   "metadata": {},
   "source": [
    "Получается, что если мы скажем: Все 1, то аккураси будет 0.2993788819875776.\n",
    "Если скажем, что все 0, то будет 0.7006211180124224. Вот она точка адекватности."
   ]
  }
 ],
 "metadata": {
  "kernelspec": {
   "display_name": "Python 3",
   "language": "python",
   "name": "python3"
  },
  "language_info": {
   "codemirror_mode": {
    "name": "ipython",
    "version": 3
   },
   "file_extension": ".py",
   "mimetype": "text/x-python",
   "name": "python",
   "nbconvert_exporter": "python",
   "pygments_lexer": "ipython3",
   "version": "3.8.3"
  }
 },
 "nbformat": 4,
 "nbformat_minor": 2
}
