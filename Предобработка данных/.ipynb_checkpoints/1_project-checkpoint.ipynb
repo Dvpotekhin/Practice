{
 "cells": [
  {
   "cell_type": "code",
   "execution_count": 1,
   "metadata": {},
   "outputs": [],
   "source": [
    "import pandas as pd\n",
    "from nltk.stem import SnowballStemmer\n",
    "from pymystem3 import Mystem\n",
    "m = Mystem()\n",
    "from collections import Counter"
   ]
  },
  {
   "cell_type": "code",
   "execution_count": 2,
   "metadata": {},
   "outputs": [],
   "source": [
    "data = pd.read_csv('/datasets/data.csv')"
   ]
  },
  {
   "cell_type": "code",
   "execution_count": 3,
   "metadata": {},
   "outputs": [
    {
     "data": {
      "text/html": [
       "<div>\n",
       "<style scoped>\n",
       "    .dataframe tbody tr th:only-of-type {\n",
       "        vertical-align: middle;\n",
       "    }\n",
       "\n",
       "    .dataframe tbody tr th {\n",
       "        vertical-align: top;\n",
       "    }\n",
       "\n",
       "    .dataframe thead th {\n",
       "        text-align: right;\n",
       "    }\n",
       "</style>\n",
       "<table border=\"1\" class=\"dataframe\">\n",
       "  <thead>\n",
       "    <tr style=\"text-align: right;\">\n",
       "      <th></th>\n",
       "      <th>children</th>\n",
       "      <th>days_employed</th>\n",
       "      <th>dob_years</th>\n",
       "      <th>education</th>\n",
       "      <th>education_id</th>\n",
       "      <th>family_status</th>\n",
       "      <th>family_status_id</th>\n",
       "      <th>gender</th>\n",
       "      <th>income_type</th>\n",
       "      <th>debt</th>\n",
       "      <th>total_income</th>\n",
       "      <th>purpose</th>\n",
       "    </tr>\n",
       "  </thead>\n",
       "  <tbody>\n",
       "    <tr>\n",
       "      <td>0</td>\n",
       "      <td>1</td>\n",
       "      <td>-8437.673028</td>\n",
       "      <td>42</td>\n",
       "      <td>высшее</td>\n",
       "      <td>0</td>\n",
       "      <td>женат / замужем</td>\n",
       "      <td>0</td>\n",
       "      <td>F</td>\n",
       "      <td>сотрудник</td>\n",
       "      <td>0</td>\n",
       "      <td>253875.639453</td>\n",
       "      <td>покупка жилья</td>\n",
       "    </tr>\n",
       "    <tr>\n",
       "      <td>1</td>\n",
       "      <td>1</td>\n",
       "      <td>-4024.803754</td>\n",
       "      <td>36</td>\n",
       "      <td>среднее</td>\n",
       "      <td>1</td>\n",
       "      <td>женат / замужем</td>\n",
       "      <td>0</td>\n",
       "      <td>F</td>\n",
       "      <td>сотрудник</td>\n",
       "      <td>0</td>\n",
       "      <td>112080.014102</td>\n",
       "      <td>приобретение автомобиля</td>\n",
       "    </tr>\n",
       "    <tr>\n",
       "      <td>2</td>\n",
       "      <td>0</td>\n",
       "      <td>-5623.422610</td>\n",
       "      <td>33</td>\n",
       "      <td>Среднее</td>\n",
       "      <td>1</td>\n",
       "      <td>женат / замужем</td>\n",
       "      <td>0</td>\n",
       "      <td>M</td>\n",
       "      <td>сотрудник</td>\n",
       "      <td>0</td>\n",
       "      <td>145885.952297</td>\n",
       "      <td>покупка жилья</td>\n",
       "    </tr>\n",
       "    <tr>\n",
       "      <td>3</td>\n",
       "      <td>3</td>\n",
       "      <td>-4124.747207</td>\n",
       "      <td>32</td>\n",
       "      <td>среднее</td>\n",
       "      <td>1</td>\n",
       "      <td>женат / замужем</td>\n",
       "      <td>0</td>\n",
       "      <td>M</td>\n",
       "      <td>сотрудник</td>\n",
       "      <td>0</td>\n",
       "      <td>267628.550329</td>\n",
       "      <td>дополнительное образование</td>\n",
       "    </tr>\n",
       "    <tr>\n",
       "      <td>4</td>\n",
       "      <td>0</td>\n",
       "      <td>340266.072047</td>\n",
       "      <td>53</td>\n",
       "      <td>среднее</td>\n",
       "      <td>1</td>\n",
       "      <td>гражданский брак</td>\n",
       "      <td>1</td>\n",
       "      <td>F</td>\n",
       "      <td>пенсионер</td>\n",
       "      <td>0</td>\n",
       "      <td>158616.077870</td>\n",
       "      <td>сыграть свадьбу</td>\n",
       "    </tr>\n",
       "    <tr>\n",
       "      <td>5</td>\n",
       "      <td>0</td>\n",
       "      <td>-926.185831</td>\n",
       "      <td>27</td>\n",
       "      <td>высшее</td>\n",
       "      <td>0</td>\n",
       "      <td>гражданский брак</td>\n",
       "      <td>1</td>\n",
       "      <td>M</td>\n",
       "      <td>компаньон</td>\n",
       "      <td>0</td>\n",
       "      <td>255763.565419</td>\n",
       "      <td>покупка жилья</td>\n",
       "    </tr>\n",
       "    <tr>\n",
       "      <td>6</td>\n",
       "      <td>0</td>\n",
       "      <td>-2879.202052</td>\n",
       "      <td>43</td>\n",
       "      <td>высшее</td>\n",
       "      <td>0</td>\n",
       "      <td>женат / замужем</td>\n",
       "      <td>0</td>\n",
       "      <td>F</td>\n",
       "      <td>компаньон</td>\n",
       "      <td>0</td>\n",
       "      <td>240525.971920</td>\n",
       "      <td>операции с жильем</td>\n",
       "    </tr>\n",
       "    <tr>\n",
       "      <td>7</td>\n",
       "      <td>0</td>\n",
       "      <td>-152.779569</td>\n",
       "      <td>50</td>\n",
       "      <td>СРЕДНЕЕ</td>\n",
       "      <td>1</td>\n",
       "      <td>женат / замужем</td>\n",
       "      <td>0</td>\n",
       "      <td>M</td>\n",
       "      <td>сотрудник</td>\n",
       "      <td>0</td>\n",
       "      <td>135823.934197</td>\n",
       "      <td>образование</td>\n",
       "    </tr>\n",
       "    <tr>\n",
       "      <td>8</td>\n",
       "      <td>2</td>\n",
       "      <td>-6929.865299</td>\n",
       "      <td>35</td>\n",
       "      <td>ВЫСШЕЕ</td>\n",
       "      <td>0</td>\n",
       "      <td>гражданский брак</td>\n",
       "      <td>1</td>\n",
       "      <td>F</td>\n",
       "      <td>сотрудник</td>\n",
       "      <td>0</td>\n",
       "      <td>95856.832424</td>\n",
       "      <td>на проведение свадьбы</td>\n",
       "    </tr>\n",
       "    <tr>\n",
       "      <td>9</td>\n",
       "      <td>0</td>\n",
       "      <td>-2188.756445</td>\n",
       "      <td>41</td>\n",
       "      <td>среднее</td>\n",
       "      <td>1</td>\n",
       "      <td>женат / замужем</td>\n",
       "      <td>0</td>\n",
       "      <td>M</td>\n",
       "      <td>сотрудник</td>\n",
       "      <td>0</td>\n",
       "      <td>144425.938277</td>\n",
       "      <td>покупка жилья для семьи</td>\n",
       "    </tr>\n",
       "  </tbody>\n",
       "</table>\n",
       "</div>"
      ],
      "text/plain": [
       "   children  days_employed  dob_years education  education_id  \\\n",
       "0         1   -8437.673028         42    высшее             0   \n",
       "1         1   -4024.803754         36   среднее             1   \n",
       "2         0   -5623.422610         33   Среднее             1   \n",
       "3         3   -4124.747207         32   среднее             1   \n",
       "4         0  340266.072047         53   среднее             1   \n",
       "5         0    -926.185831         27    высшее             0   \n",
       "6         0   -2879.202052         43    высшее             0   \n",
       "7         0    -152.779569         50   СРЕДНЕЕ             1   \n",
       "8         2   -6929.865299         35    ВЫСШЕЕ             0   \n",
       "9         0   -2188.756445         41   среднее             1   \n",
       "\n",
       "      family_status  family_status_id gender income_type  debt   total_income  \\\n",
       "0   женат / замужем                 0      F   сотрудник     0  253875.639453   \n",
       "1   женат / замужем                 0      F   сотрудник     0  112080.014102   \n",
       "2   женат / замужем                 0      M   сотрудник     0  145885.952297   \n",
       "3   женат / замужем                 0      M   сотрудник     0  267628.550329   \n",
       "4  гражданский брак                 1      F   пенсионер     0  158616.077870   \n",
       "5  гражданский брак                 1      M   компаньон     0  255763.565419   \n",
       "6   женат / замужем                 0      F   компаньон     0  240525.971920   \n",
       "7   женат / замужем                 0      M   сотрудник     0  135823.934197   \n",
       "8  гражданский брак                 1      F   сотрудник     0   95856.832424   \n",
       "9   женат / замужем                 0      M   сотрудник     0  144425.938277   \n",
       "\n",
       "                      purpose  \n",
       "0               покупка жилья  \n",
       "1     приобретение автомобиля  \n",
       "2               покупка жилья  \n",
       "3  дополнительное образование  \n",
       "4             сыграть свадьбу  \n",
       "5               покупка жилья  \n",
       "6           операции с жильем  \n",
       "7                 образование  \n",
       "8       на проведение свадьбы  \n",
       "9     покупка жилья для семьи  "
      ]
     },
     "execution_count": 3,
     "metadata": {},
     "output_type": "execute_result"
    }
   ],
   "source": [
    "data.head(10)"
   ]
  },
  {
   "cell_type": "code",
   "execution_count": 4,
   "metadata": {},
   "outputs": [
    {
     "name": "stdout",
     "output_type": "stream",
     "text": [
      "<class 'pandas.core.frame.DataFrame'>\n",
      "RangeIndex: 21525 entries, 0 to 21524\n",
      "Data columns (total 12 columns):\n",
      "children            21525 non-null int64\n",
      "days_employed       19351 non-null float64\n",
      "dob_years           21525 non-null int64\n",
      "education           21525 non-null object\n",
      "education_id        21525 non-null int64\n",
      "family_status       21525 non-null object\n",
      "family_status_id    21525 non-null int64\n",
      "gender              21525 non-null object\n",
      "income_type         21525 non-null object\n",
      "debt                21525 non-null int64\n",
      "total_income        19351 non-null float64\n",
      "purpose             21525 non-null object\n",
      "dtypes: float64(2), int64(5), object(5)\n",
      "memory usage: 2.0+ MB\n"
     ]
    }
   ],
   "source": [
    "data.info()"
   ]
  },
  {
   "cell_type": "markdown",
   "metadata": {},
   "source": [
    "В представленных данных у нас 12 разных характеристик.  8 категориальных и 4 количественных. Две пары характеристик - повторяются(education и family status).\n",
    "По необходимым действиям:\n",
    "Видны пропуски в day_employed и total_income(необходимы определить, в чем дело.)\n",
    "Необходимо понять структуру данных в day_employed(почему отрицательные значения)\n",
    "Проверить есть ли нулевые значения в столбцах.\n",
    "Сгруппировать людей по возрастам(в будущем возможно будет разная статистика по возвращению кредитов в разных возрастных группах)\n",
    "Проверить все характеристики на наличие дубликатов.\n",
    "\n"
   ]
  },
  {
   "cell_type": "code",
   "execution_count": 5,
   "metadata": {},
   "outputs": [
    {
     "data": {
      "text/plain": [
       " 0     14149\n",
       " 1      4818\n",
       " 2      2055\n",
       " 3       330\n",
       " 20       76\n",
       "-1        47\n",
       " 4        41\n",
       " 5         9\n",
       "Name: children, dtype: int64"
      ]
     },
     "execution_count": 5,
     "metadata": {},
     "output_type": "execute_result"
    }
   ],
   "source": [
    "data['children'].value_counts()"
   ]
  },
  {
   "cell_type": "markdown",
   "metadata": {},
   "source": [
    "В характеристики дети появились странные значения. -1 и 20.\n",
    "-1 думаю человек имел ввиду 1 ребенок. Указал -(дефис) 1. \n",
    "20 опечатка, но понять, что имел человек тут невозможно(2 или 0)\n",
    "Количество строк с этими значениями незначительно. На общую картину влиять не будет. Удаляем."
   ]
  },
  {
   "cell_type": "code",
   "execution_count": 6,
   "metadata": {},
   "outputs": [],
   "source": [
    "data = data[(data['children'] != -1) & (data['children'] != 43) & (data['children'] != 20)]"
   ]
  },
  {
   "cell_type": "code",
   "execution_count": 7,
   "metadata": {},
   "outputs": [
    {
     "data": {
      "text/plain": [
       "0    14149\n",
       "1     4818\n",
       "2     2055\n",
       "3      330\n",
       "4       41\n",
       "5        9\n",
       "Name: children, dtype: int64"
      ]
     },
     "execution_count": 7,
     "metadata": {},
     "output_type": "execute_result"
    }
   ],
   "source": [
    "data['children'].value_counts()"
   ]
  },
  {
   "cell_type": "markdown",
   "metadata": {},
   "source": [
    "Переходим к возрасту"
   ]
  },
  {
   "cell_type": "code",
   "execution_count": 8,
   "metadata": {},
   "outputs": [
    {
     "data": {
      "text/plain": [
       "35    614\n",
       "40    603\n",
       "41    603\n",
       "34    597\n",
       "38    595\n",
       "42    592\n",
       "33    577\n",
       "39    572\n",
       "31    556\n",
       "36    553\n",
       "29    543\n",
       "44    543\n",
       "30    536\n",
       "48    536\n",
       "37    531\n",
       "43    510\n",
       "50    509\n",
       "32    506\n",
       "49    505\n",
       "28    501\n",
       "45    494\n",
       "27    490\n",
       "52    483\n",
       "56    482\n",
       "47    480\n",
       "54    476\n",
       "46    469\n",
       "58    461\n",
       "57    457\n",
       "53    457\n",
       "51    446\n",
       "55    441\n",
       "59    441\n",
       "26    406\n",
       "60    376\n",
       "25    356\n",
       "61    353\n",
       "62    351\n",
       "63    268\n",
       "64    263\n",
       "24    263\n",
       "23    252\n",
       "65    194\n",
       "66    183\n",
       "22    183\n",
       "67    167\n",
       "21    110\n",
       "0     100\n",
       "68     99\n",
       "69     83\n",
       "70     65\n",
       "71     58\n",
       "20     51\n",
       "72     33\n",
       "19     14\n",
       "73      8\n",
       "74      6\n",
       "75      1\n",
       "Name: dob_years, dtype: int64"
      ]
     },
     "execution_count": 8,
     "metadata": {},
     "output_type": "execute_result"
    }
   ],
   "source": [
    "data['dob_years'].value_counts()"
   ]
  },
  {
   "cell_type": "markdown",
   "metadata": {},
   "source": [
    "Среди возрастов затесались люди с 0 годов жизни. Это явный пропуск. Вычисляем среднее значение и подставляем вместо 0."
   ]
  },
  {
   "cell_type": "code",
   "execution_count": 9,
   "metadata": {},
   "outputs": [
    {
     "data": {
      "text/plain": [
       "43.30020558826278"
      ]
     },
     "execution_count": 9,
     "metadata": {},
     "output_type": "execute_result"
    }
   ],
   "source": [
    "data['dob_years'].mean()"
   ]
  },
  {
   "cell_type": "code",
   "execution_count": 10,
   "metadata": {},
   "outputs": [],
   "source": [
    "data.loc[data['dob_years'] == 0, 'dob_years'] = 43"
   ]
  },
  {
   "cell_type": "code",
   "execution_count": 11,
   "metadata": {},
   "outputs": [
    {
     "data": {
      "text/plain": [
       "35    614\n",
       "43    610\n",
       "40    603\n",
       "41    603\n",
       "34    597\n",
       "38    595\n",
       "42    592\n",
       "33    577\n",
       "39    572\n",
       "31    556\n",
       "36    553\n",
       "29    543\n",
       "44    543\n",
       "30    536\n",
       "48    536\n",
       "37    531\n",
       "50    509\n",
       "32    506\n",
       "49    505\n",
       "28    501\n",
       "45    494\n",
       "27    490\n",
       "52    483\n",
       "56    482\n",
       "47    480\n",
       "54    476\n",
       "46    469\n",
       "58    461\n",
       "53    457\n",
       "57    457\n",
       "51    446\n",
       "55    441\n",
       "59    441\n",
       "26    406\n",
       "60    376\n",
       "25    356\n",
       "61    353\n",
       "62    351\n",
       "63    268\n",
       "64    263\n",
       "24    263\n",
       "23    252\n",
       "65    194\n",
       "66    183\n",
       "22    183\n",
       "67    167\n",
       "21    110\n",
       "68     99\n",
       "69     83\n",
       "70     65\n",
       "71     58\n",
       "20     51\n",
       "72     33\n",
       "19     14\n",
       "73      8\n",
       "74      6\n",
       "75      1\n",
       "Name: dob_years, dtype: int64"
      ]
     },
     "execution_count": 11,
     "metadata": {},
     "output_type": "execute_result"
    }
   ],
   "source": [
    "data['dob_years'].value_counts()"
   ]
  },
  {
   "cell_type": "markdown",
   "metadata": {},
   "source": [
    "0 заменен на среднее значение по возрасту. 43"
   ]
  },
  {
   "cell_type": "markdown",
   "metadata": {},
   "source": [
    "Переходим к образованию."
   ]
  },
  {
   "cell_type": "code",
   "execution_count": 12,
   "metadata": {},
   "outputs": [
    {
     "data": {
      "text/plain": [
       "среднее                13667\n",
       "высшее                  4698\n",
       "СРЕДНЕЕ                  766\n",
       "Среднее                  703\n",
       "неоконченное высшее      665\n",
       "ВЫСШЕЕ                   271\n",
       "Высшее                   268\n",
       "начальное                250\n",
       "Неоконченное высшее       47\n",
       "НЕОКОНЧЕННОЕ ВЫСШЕЕ       29\n",
       "НАЧАЛЬНОЕ                 17\n",
       "Начальное                 15\n",
       "ученая степень             4\n",
       "УЧЕНАЯ СТЕПЕНЬ             1\n",
       "Ученая степень             1\n",
       "Name: education, dtype: int64"
      ]
     },
     "execution_count": 12,
     "metadata": {},
     "output_type": "execute_result"
    }
   ],
   "source": [
    "data['education'].value_counts()"
   ]
  },
  {
   "cell_type": "code",
   "execution_count": 13,
   "metadata": {},
   "outputs": [
    {
     "data": {
      "text/plain": [
       "1    15136\n",
       "0     5237\n",
       "2      741\n",
       "3      282\n",
       "4        6\n",
       "Name: education_id, dtype: int64"
      ]
     },
     "execution_count": 13,
     "metadata": {},
     "output_type": "execute_result"
    }
   ],
   "source": [
    "data['education_id'].value_counts()"
   ]
  },
  {
   "cell_type": "code",
   "execution_count": 14,
   "metadata": {},
   "outputs": [
    {
     "data": {
      "text/plain": [
       "education_id  education          \n",
       "0             высшее                  4698\n",
       "              ВЫСШЕЕ                   271\n",
       "              Высшее                   268\n",
       "1             среднее                13667\n",
       "              СРЕДНЕЕ                  766\n",
       "              Среднее                  703\n",
       "2             неоконченное высшее      665\n",
       "              Неоконченное высшее       47\n",
       "              НЕОКОНЧЕННОЕ ВЫСШЕЕ       29\n",
       "3             начальное                250\n",
       "              НАЧАЛЬНОЕ                 17\n",
       "              Начальное                 15\n",
       "4             ученая степень             4\n",
       "              УЧЕНАЯ СТЕПЕНЬ             1\n",
       "              Ученая степень             1\n",
       "Name: education, dtype: int64"
      ]
     },
     "execution_count": 14,
     "metadata": {},
     "output_type": "execute_result"
    }
   ],
   "source": [
    "data.groupby('education_id')['education'].value_counts()"
   ]
  },
  {
   "cell_type": "markdown",
   "metadata": {},
   "source": [
    "Так как эти характеристику коррелируют, в столбце education можно не обрабатывать значения(менять регистр на нижний, приводить к одному значению). \n",
    "Характеристика education_id без пропусков показывает необходимые значения:\n",
    "<br>0 - высшее</br>\n",
    "<br>1 - среднее</br>\n",
    "<br>2 - неоконченное высшее</br>\n",
    "<br>3 - начальное </br>\n",
    "<br>4 - ученая степень</br>"
   ]
  },
  {
   "cell_type": "markdown",
   "metadata": {},
   "source": [
    "Необходимо свести все к одному регистру."
   ]
  },
  {
   "cell_type": "code",
   "execution_count": 15,
   "metadata": {},
   "outputs": [],
   "source": [
    "data['education'] = data['education'].str.lower()"
   ]
  },
  {
   "cell_type": "code",
   "execution_count": 16,
   "metadata": {},
   "outputs": [
    {
     "data": {
      "text/plain": [
       "среднее                15136\n",
       "высшее                  5237\n",
       "неоконченное высшее      741\n",
       "начальное                282\n",
       "ученая степень             6\n",
       "Name: education, dtype: int64"
      ]
     },
     "execution_count": 16,
     "metadata": {},
     "output_type": "execute_result"
    }
   ],
   "source": [
    "data['education'].value_counts()"
   ]
  },
  {
   "cell_type": "markdown",
   "metadata": {},
   "source": [
    "Переходим к family"
   ]
  },
  {
   "cell_type": "code",
   "execution_count": 17,
   "metadata": {},
   "outputs": [
    {
     "data": {
      "text/plain": [
       "женат / замужем          12302\n",
       "гражданский брак          4160\n",
       "Не женат / не замужем     2799\n",
       "в разводе                 1189\n",
       "вдовец / вдова             952\n",
       "Name: family_status, dtype: int64"
      ]
     },
     "execution_count": 17,
     "metadata": {},
     "output_type": "execute_result"
    }
   ],
   "source": [
    "data['family_status'].value_counts()"
   ]
  },
  {
   "cell_type": "code",
   "execution_count": 18,
   "metadata": {},
   "outputs": [
    {
     "data": {
      "text/plain": [
       "0    12302\n",
       "1     4160\n",
       "4     2799\n",
       "3     1189\n",
       "2      952\n",
       "Name: family_status_id, dtype: int64"
      ]
     },
     "execution_count": 18,
     "metadata": {},
     "output_type": "execute_result"
    }
   ],
   "source": [
    "data['family_status_id'].value_counts()"
   ]
  },
  {
   "cell_type": "code",
   "execution_count": 19,
   "metadata": {},
   "outputs": [
    {
     "data": {
      "text/plain": [
       "family_status_id  family_status        \n",
       "0                 женат / замужем          12302\n",
       "1                 гражданский брак          4160\n",
       "2                 вдовец / вдова             952\n",
       "3                 в разводе                 1189\n",
       "4                 Не женат / не замужем     2799\n",
       "Name: family_status, dtype: int64"
      ]
     },
     "execution_count": 19,
     "metadata": {},
     "output_type": "execute_result"
    }
   ],
   "source": [
    "data.groupby('family_status_id')['family_status'].value_counts()"
   ]
  },
  {
   "cell_type": "markdown",
   "metadata": {},
   "source": [
    "Ситуация аналогичная с education. Обе характеристики коррелируют. Можно использовать характеристику family_status_id:\n",
    "<br> 0 - женат</br>\n",
    "<br> 1 - гражд. брак</br>\n",
    "<br> 2 - вдовец </br>\n",
    "<br> 3 - развод </br>\n",
    "<br> 4 - не женат  </br>"
   ]
  },
  {
   "cell_type": "markdown",
   "metadata": {},
   "source": [
    "Так как решаю не использовать 2 характеристики, так как они дублируются - убираю их из таблицы, чтобы в будущем они не мешали в работе."
   ]
  },
  {
   "cell_type": "markdown",
   "metadata": {},
   "source": [
    "Проверяем пол"
   ]
  },
  {
   "cell_type": "code",
   "execution_count": 20,
   "metadata": {},
   "outputs": [
    {
     "data": {
      "text/plain": [
       "F      14154\n",
       "M       7247\n",
       "XNA        1\n",
       "Name: gender, dtype: int64"
      ]
     },
     "execution_count": 20,
     "metadata": {},
     "output_type": "execute_result"
    }
   ],
   "source": [
    "data['gender'].value_counts()"
   ]
  },
  {
   "cell_type": "markdown",
   "metadata": {},
   "source": [
    "Появилось странное значение XNA. гугл не объяснил, что это. Убираем из таблицы."
   ]
  },
  {
   "cell_type": "code",
   "execution_count": 21,
   "metadata": {},
   "outputs": [],
   "source": [
    "data = data[data['gender'] != 'XNA']"
   ]
  },
  {
   "cell_type": "code",
   "execution_count": 22,
   "metadata": {},
   "outputs": [
    {
     "data": {
      "text/plain": [
       "F    14154\n",
       "M     7247\n",
       "Name: gender, dtype: int64"
      ]
     },
     "execution_count": 22,
     "metadata": {},
     "output_type": "execute_result"
    }
   ],
   "source": [
    "data['gender'].value_counts()"
   ]
  },
  {
   "cell_type": "markdown",
   "metadata": {},
   "source": [
    "переходим к источнику"
   ]
  },
  {
   "cell_type": "code",
   "execution_count": 23,
   "metadata": {},
   "outputs": [
    {
     "data": {
      "text/plain": [
       "сотрудник          11050\n",
       "компаньон           5053\n",
       "пенсионер           3839\n",
       "госслужащий         1453\n",
       "предприниматель        2\n",
       "безработный            2\n",
       "студент                1\n",
       "в декрете              1\n",
       "Name: income_type, dtype: int64"
      ]
     },
     "execution_count": 23,
     "metadata": {},
     "output_type": "execute_result"
    }
   ],
   "source": [
    "data['income_type'].value_counts()"
   ]
  },
  {
   "cell_type": "markdown",
   "metadata": {},
   "source": [
    "Не представляю, что сотрудники банка подразумевали под словом компаньон. По мне предприниматель и компаньон это одно и тоже. Безработный, студент и в декрете думаю сразу красных флаг для кредитного скоринга.\n",
    "<br>Есть несколько вариантов. Первый: распределить маленькие значения по другим столбцам. Второй: убрать их, так как они являют собой малый процент от общих данных.</br>\n",
    "<br> Я считаю, что нужно предпринимателя отправить к компаньонам. студент, безработный и в декрете объеденить в одно. безработный. Возможно в будущем анализе, факт безработности будет важен."
   ]
  },
  {
   "cell_type": "code",
   "execution_count": 24,
   "metadata": {},
   "outputs": [],
   "source": [
    "data['income_type'] = data['income_type'].replace('предприниматель', 'компаньон')\n"
   ]
  },
  {
   "cell_type": "code",
   "execution_count": 25,
   "metadata": {},
   "outputs": [],
   "source": [
    "data['income_type'] = data['income_type'].replace('в декрете', 'безработный')\n",
    "data['income_type'] = data['income_type'].replace('студент', 'безработный')"
   ]
  },
  {
   "cell_type": "code",
   "execution_count": 26,
   "metadata": {},
   "outputs": [
    {
     "data": {
      "text/plain": [
       "сотрудник      11050\n",
       "компаньон       5055\n",
       "пенсионер       3839\n",
       "госслужащий     1453\n",
       "безработный        4\n",
       "Name: income_type, dtype: int64"
      ]
     },
     "execution_count": 26,
     "metadata": {},
     "output_type": "execute_result"
    }
   ],
   "source": [
    "data['income_type'].value_counts()\n",
    "\n"
   ]
  },
  {
   "cell_type": "code",
   "execution_count": 27,
   "metadata": {},
   "outputs": [
    {
     "data": {
      "text/plain": [
       "0    19669\n",
       "1     1732\n",
       "Name: debt, dtype: int64"
      ]
     },
     "execution_count": 27,
     "metadata": {},
     "output_type": "execute_result"
    }
   ],
   "source": [
    "data['debt'].value_counts()"
   ]
  },
  {
   "cell_type": "markdown",
   "metadata": {},
   "source": [
    "Характеристика, которая указывает были ли проблемы с возвратом кредита у записанных в таблицу."
   ]
  },
  {
   "cell_type": "code",
   "execution_count": 28,
   "metadata": {},
   "outputs": [
    {
     "data": {
      "text/html": [
       "<div>\n",
       "<style scoped>\n",
       "    .dataframe tbody tr th:only-of-type {\n",
       "        vertical-align: middle;\n",
       "    }\n",
       "\n",
       "    .dataframe tbody tr th {\n",
       "        vertical-align: top;\n",
       "    }\n",
       "\n",
       "    .dataframe thead th {\n",
       "        text-align: right;\n",
       "    }\n",
       "</style>\n",
       "<table border=\"1\" class=\"dataframe\">\n",
       "  <thead>\n",
       "    <tr style=\"text-align: right;\">\n",
       "      <th></th>\n",
       "      <th>children</th>\n",
       "      <th>days_employed</th>\n",
       "      <th>dob_years</th>\n",
       "      <th>education</th>\n",
       "      <th>education_id</th>\n",
       "      <th>family_status</th>\n",
       "      <th>family_status_id</th>\n",
       "      <th>gender</th>\n",
       "      <th>income_type</th>\n",
       "      <th>debt</th>\n",
       "      <th>total_income</th>\n",
       "      <th>purpose</th>\n",
       "    </tr>\n",
       "  </thead>\n",
       "  <tbody>\n",
       "    <tr>\n",
       "      <td>12</td>\n",
       "      <td>0</td>\n",
       "      <td>NaN</td>\n",
       "      <td>65</td>\n",
       "      <td>среднее</td>\n",
       "      <td>1</td>\n",
       "      <td>гражданский брак</td>\n",
       "      <td>1</td>\n",
       "      <td>M</td>\n",
       "      <td>пенсионер</td>\n",
       "      <td>0</td>\n",
       "      <td>NaN</td>\n",
       "      <td>сыграть свадьбу</td>\n",
       "    </tr>\n",
       "    <tr>\n",
       "      <td>26</td>\n",
       "      <td>0</td>\n",
       "      <td>NaN</td>\n",
       "      <td>41</td>\n",
       "      <td>среднее</td>\n",
       "      <td>1</td>\n",
       "      <td>женат / замужем</td>\n",
       "      <td>0</td>\n",
       "      <td>M</td>\n",
       "      <td>госслужащий</td>\n",
       "      <td>0</td>\n",
       "      <td>NaN</td>\n",
       "      <td>образование</td>\n",
       "    </tr>\n",
       "    <tr>\n",
       "      <td>29</td>\n",
       "      <td>0</td>\n",
       "      <td>NaN</td>\n",
       "      <td>63</td>\n",
       "      <td>среднее</td>\n",
       "      <td>1</td>\n",
       "      <td>Не женат / не замужем</td>\n",
       "      <td>4</td>\n",
       "      <td>F</td>\n",
       "      <td>пенсионер</td>\n",
       "      <td>0</td>\n",
       "      <td>NaN</td>\n",
       "      <td>строительство жилой недвижимости</td>\n",
       "    </tr>\n",
       "    <tr>\n",
       "      <td>41</td>\n",
       "      <td>0</td>\n",
       "      <td>NaN</td>\n",
       "      <td>50</td>\n",
       "      <td>среднее</td>\n",
       "      <td>1</td>\n",
       "      <td>женат / замужем</td>\n",
       "      <td>0</td>\n",
       "      <td>F</td>\n",
       "      <td>госслужащий</td>\n",
       "      <td>0</td>\n",
       "      <td>NaN</td>\n",
       "      <td>сделка с подержанным автомобилем</td>\n",
       "    </tr>\n",
       "    <tr>\n",
       "      <td>55</td>\n",
       "      <td>0</td>\n",
       "      <td>NaN</td>\n",
       "      <td>54</td>\n",
       "      <td>среднее</td>\n",
       "      <td>1</td>\n",
       "      <td>гражданский брак</td>\n",
       "      <td>1</td>\n",
       "      <td>F</td>\n",
       "      <td>пенсионер</td>\n",
       "      <td>1</td>\n",
       "      <td>NaN</td>\n",
       "      <td>сыграть свадьбу</td>\n",
       "    </tr>\n",
       "    <tr>\n",
       "      <td>...</td>\n",
       "      <td>...</td>\n",
       "      <td>...</td>\n",
       "      <td>...</td>\n",
       "      <td>...</td>\n",
       "      <td>...</td>\n",
       "      <td>...</td>\n",
       "      <td>...</td>\n",
       "      <td>...</td>\n",
       "      <td>...</td>\n",
       "      <td>...</td>\n",
       "      <td>...</td>\n",
       "      <td>...</td>\n",
       "    </tr>\n",
       "    <tr>\n",
       "      <td>21489</td>\n",
       "      <td>2</td>\n",
       "      <td>NaN</td>\n",
       "      <td>47</td>\n",
       "      <td>среднее</td>\n",
       "      <td>1</td>\n",
       "      <td>женат / замужем</td>\n",
       "      <td>0</td>\n",
       "      <td>M</td>\n",
       "      <td>компаньон</td>\n",
       "      <td>0</td>\n",
       "      <td>NaN</td>\n",
       "      <td>сделка с автомобилем</td>\n",
       "    </tr>\n",
       "    <tr>\n",
       "      <td>21495</td>\n",
       "      <td>1</td>\n",
       "      <td>NaN</td>\n",
       "      <td>50</td>\n",
       "      <td>среднее</td>\n",
       "      <td>1</td>\n",
       "      <td>гражданский брак</td>\n",
       "      <td>1</td>\n",
       "      <td>F</td>\n",
       "      <td>сотрудник</td>\n",
       "      <td>0</td>\n",
       "      <td>NaN</td>\n",
       "      <td>свадьба</td>\n",
       "    </tr>\n",
       "    <tr>\n",
       "      <td>21497</td>\n",
       "      <td>0</td>\n",
       "      <td>NaN</td>\n",
       "      <td>48</td>\n",
       "      <td>высшее</td>\n",
       "      <td>0</td>\n",
       "      <td>женат / замужем</td>\n",
       "      <td>0</td>\n",
       "      <td>F</td>\n",
       "      <td>компаньон</td>\n",
       "      <td>0</td>\n",
       "      <td>NaN</td>\n",
       "      <td>строительство недвижимости</td>\n",
       "    </tr>\n",
       "    <tr>\n",
       "      <td>21502</td>\n",
       "      <td>1</td>\n",
       "      <td>NaN</td>\n",
       "      <td>42</td>\n",
       "      <td>среднее</td>\n",
       "      <td>1</td>\n",
       "      <td>женат / замужем</td>\n",
       "      <td>0</td>\n",
       "      <td>F</td>\n",
       "      <td>сотрудник</td>\n",
       "      <td>0</td>\n",
       "      <td>NaN</td>\n",
       "      <td>строительство жилой недвижимости</td>\n",
       "    </tr>\n",
       "    <tr>\n",
       "      <td>21510</td>\n",
       "      <td>2</td>\n",
       "      <td>NaN</td>\n",
       "      <td>28</td>\n",
       "      <td>среднее</td>\n",
       "      <td>1</td>\n",
       "      <td>женат / замужем</td>\n",
       "      <td>0</td>\n",
       "      <td>F</td>\n",
       "      <td>сотрудник</td>\n",
       "      <td>0</td>\n",
       "      <td>NaN</td>\n",
       "      <td>приобретение автомобиля</td>\n",
       "    </tr>\n",
       "  </tbody>\n",
       "</table>\n",
       "<p>2162 rows × 12 columns</p>\n",
       "</div>"
      ],
      "text/plain": [
       "       children  days_employed  dob_years education  education_id  \\\n",
       "12            0            NaN         65   среднее             1   \n",
       "26            0            NaN         41   среднее             1   \n",
       "29            0            NaN         63   среднее             1   \n",
       "41            0            NaN         50   среднее             1   \n",
       "55            0            NaN         54   среднее             1   \n",
       "...         ...            ...        ...       ...           ...   \n",
       "21489         2            NaN         47   среднее             1   \n",
       "21495         1            NaN         50   среднее             1   \n",
       "21497         0            NaN         48    высшее             0   \n",
       "21502         1            NaN         42   среднее             1   \n",
       "21510         2            NaN         28   среднее             1   \n",
       "\n",
       "               family_status  family_status_id gender  income_type  debt  \\\n",
       "12          гражданский брак                 1      M    пенсионер     0   \n",
       "26           женат / замужем                 0      M  госслужащий     0   \n",
       "29     Не женат / не замужем                 4      F    пенсионер     0   \n",
       "41           женат / замужем                 0      F  госслужащий     0   \n",
       "55          гражданский брак                 1      F    пенсионер     1   \n",
       "...                      ...               ...    ...          ...   ...   \n",
       "21489        женат / замужем                 0      M    компаньон     0   \n",
       "21495       гражданский брак                 1      F    сотрудник     0   \n",
       "21497        женат / замужем                 0      F    компаньон     0   \n",
       "21502        женат / замужем                 0      F    сотрудник     0   \n",
       "21510        женат / замужем                 0      F    сотрудник     0   \n",
       "\n",
       "       total_income                           purpose  \n",
       "12              NaN                   сыграть свадьбу  \n",
       "26              NaN                       образование  \n",
       "29              NaN  строительство жилой недвижимости  \n",
       "41              NaN  сделка с подержанным автомобилем  \n",
       "55              NaN                   сыграть свадьбу  \n",
       "...             ...                               ...  \n",
       "21489           NaN              сделка с автомобилем  \n",
       "21495           NaN                           свадьба  \n",
       "21497           NaN        строительство недвижимости  \n",
       "21502           NaN  строительство жилой недвижимости  \n",
       "21510           NaN           приобретение автомобиля  \n",
       "\n",
       "[2162 rows x 12 columns]"
      ]
     },
     "execution_count": 28,
     "metadata": {},
     "output_type": "execute_result"
    }
   ],
   "source": [
    "data[data['total_income'].isna()]"
   ]
  },
  {
   "cell_type": "markdown",
   "metadata": {},
   "source": [
    "у тех, у кого nan в days_employed у них же nan в total_income.\n",
    "пустые значения в total_income можно заполнить на медианное значение среди одинаковых типов занятости:"
   ]
  },
  {
   "cell_type": "markdown",
   "metadata": {},
   "source": [
    "Проверяю находит ли медиану:"
   ]
  },
  {
   "cell_type": "code",
   "execution_count": 29,
   "metadata": {},
   "outputs": [
    {
     "name": "stdout",
     "output_type": "stream",
     "text": [
      "150420.15027571545\n",
      "172517.41890715924\n",
      "118480.8374078531\n",
      "142587.58897640655\n",
      "79079.30864901151\n"
     ]
    }
   ],
   "source": [
    "NaN_income_type=['госслужащий','компаньон','пенсионер','сотрудник', 'безработный']   \n",
    "for q in NaN_income_type:\n",
    "    median_data = data.sort_values(by='income_type')\n",
    "    median_data = data.loc[data['income_type'] == q,'total_income'].median()\n",
    "    print(median_data)"
   ]
  },
  {
   "cell_type": "code",
   "execution_count": 30,
   "metadata": {},
   "outputs": [],
   "source": [
    "def FillNaNTotalIncome(param):\n",
    "    median_data = data.sort_values(by='income_type')\n",
    "    median_data = data.loc[data['income_type'] == param,'total_income'].median()\n",
    "    data.loc[data['income_type'] == param, 'total_income'] = data.loc[data['income_type'] == param, 'total_income'].fillna(value=median_data)\n",
    "    return data"
   ]
  },
  {
   "cell_type": "code",
   "execution_count": 31,
   "metadata": {},
   "outputs": [],
   "source": [
    "NaN_income_type=['госслужащий','компаньон','пенсионер','сотрудник', 'безработный']   \n",
    "for q in NaN_income_type:\n",
    "    data = FillNaNTotalIncome(q)"
   ]
  },
  {
   "cell_type": "code",
   "execution_count": 32,
   "metadata": {},
   "outputs": [
    {
     "data": {
      "text/plain": [
       "142587.588976    1102\n",
       "172517.418907     505\n",
       "118480.837408     411\n",
       "150420.150276     147\n",
       "100213.989206       1\n",
       "                 ... \n",
       "94866.149495        1\n",
       "102584.459738       1\n",
       "263541.296997       1\n",
       "168463.737577       1\n",
       "150014.128510       1\n",
       "Name: total_income, Length: 19240, dtype: int64"
      ]
     },
     "execution_count": 32,
     "metadata": {},
     "output_type": "execute_result"
    }
   ],
   "source": [
    "data['total_income'].value_counts()"
   ]
  },
  {
   "cell_type": "code",
   "execution_count": 33,
   "metadata": {},
   "outputs": [
    {
     "data": {
      "text/plain": [
       "0"
      ]
     },
     "execution_count": 33,
     "metadata": {},
     "output_type": "execute_result"
    }
   ],
   "source": [
    "data['total_income'].isna().sum()"
   ]
  },
  {
   "cell_type": "code",
   "execution_count": 34,
   "metadata": {},
   "outputs": [
    {
     "data": {
      "text/plain": [
       "свадьба                                   796\n",
       "на проведение свадьбы                     772\n",
       "сыграть свадьбу                           769\n",
       "операции с недвижимостью                  673\n",
       "покупка коммерческой недвижимости         661\n",
       "покупка жилья для сдачи                   651\n",
       "операции с жильем                         648\n",
       "операции с коммерческой недвижимостью     646\n",
       "жилье                                     642\n",
       "покупка жилья                             641\n",
       "покупка жилья для семьи                   640\n",
       "недвижимость                              632\n",
       "строительство собственной недвижимости    628\n",
       "операции со своей недвижимостью           626\n",
       "строительство жилой недвижимости          622\n",
       "строительство недвижимости                620\n",
       "покупка своего жилья                      619\n",
       "покупка недвижимости                      618\n",
       "ремонт жилью                              609\n",
       "покупка жилой недвижимости                603\n",
       "на покупку своего автомобиля              504\n",
       "заняться высшим образованием              496\n",
       "автомобиль                                492\n",
       "сделка с подержанным автомобилем          484\n",
       "автомобили                                476\n",
       "свой автомобиль                           475\n",
       "на покупку подержанного автомобиля        472\n",
       "на покупку автомобиля                     470\n",
       "приобретение автомобиля                   460\n",
       "дополнительное образование                457\n",
       "сделка с автомобилем                      455\n",
       "высшее образование                        447\n",
       "получение дополнительного образования     445\n",
       "образование                               442\n",
       "получение образования                     441\n",
       "профильное образование                    432\n",
       "получение высшего образования             425\n",
       "заняться образованием                     412\n",
       "Name: purpose, dtype: int64"
      ]
     },
     "execution_count": 34,
     "metadata": {},
     "output_type": "execute_result"
    }
   ],
   "source": [
    "data['purpose'].value_counts()"
   ]
  },
  {
   "cell_type": "markdown",
   "metadata": {},
   "source": [
    "Пропусков нет, необходимо сгруппировать по одним тематикам. Этим займемся в разделе лемматизации."
   ]
  },
  {
   "cell_type": "markdown",
   "metadata": {},
   "source": [
    "Решаем не использовать 3 характеристики. 2 из которых коррелируются с похожими 2-мя. Одна не влияет на ответ."
   ]
  },
  {
   "cell_type": "code",
   "execution_count": 35,
   "metadata": {},
   "outputs": [
    {
     "name": "stdout",
     "output_type": "stream",
     "text": [
      "<class 'pandas.core.frame.DataFrame'>\n",
      "Int64Index: 21401 entries, 0 to 21524\n",
      "Data columns (total 12 columns):\n",
      "children            21401 non-null int64\n",
      "days_employed       19239 non-null float64\n",
      "dob_years           21401 non-null int64\n",
      "education           21401 non-null object\n",
      "education_id        21401 non-null int64\n",
      "family_status       21401 non-null object\n",
      "family_status_id    21401 non-null int64\n",
      "gender              21401 non-null object\n",
      "income_type         21401 non-null object\n",
      "debt                21401 non-null int64\n",
      "total_income        21401 non-null float64\n",
      "purpose             21401 non-null object\n",
      "dtypes: float64(2), int64(5), object(5)\n",
      "memory usage: 2.1+ MB\n"
     ]
    }
   ],
   "source": [
    "data.info()"
   ]
  },
  {
   "cell_type": "code",
   "execution_count": 36,
   "metadata": {},
   "outputs": [],
   "source": [
    "data_final = data[['children', 'dob_years', \n",
    "                   'education', 'family_status', 'gender', 'income_type', 'debt', 'total_income', 'purpose']]"
   ]
  },
  {
   "cell_type": "markdown",
   "metadata": {},
   "source": [
    "Убираю два столбца, которые отражают одну инфорамацию."
   ]
  },
  {
   "cell_type": "code",
   "execution_count": 37,
   "metadata": {},
   "outputs": [
    {
     "name": "stdout",
     "output_type": "stream",
     "text": [
      "<class 'pandas.core.frame.DataFrame'>\n",
      "Int64Index: 21401 entries, 0 to 21524\n",
      "Data columns (total 9 columns):\n",
      "children         21401 non-null int64\n",
      "dob_years        21401 non-null int64\n",
      "education        21401 non-null object\n",
      "family_status    21401 non-null object\n",
      "gender           21401 non-null object\n",
      "income_type      21401 non-null object\n",
      "debt             21401 non-null int64\n",
      "total_income     21401 non-null float64\n",
      "purpose          21401 non-null object\n",
      "dtypes: float64(1), int64(3), object(5)\n",
      "memory usage: 1.6+ MB\n"
     ]
    }
   ],
   "source": [
    "data_final.info()"
   ]
  },
  {
   "cell_type": "markdown",
   "metadata": {},
   "source": [
    "### Вывод"
   ]
  },
  {
   "cell_type": "markdown",
   "metadata": {},
   "source": [
    "Почти в каждую характеристику закрались какие то пропуски или неверные значения.\n",
    "Нет смысла править каждую характеристику. Возможно, для выполнения задачи нет необходимости править все(допустим характеристики education, days_employed и family_status) Эти характеристики либо могут быть обозначены другими характеристиками(пары education и  education_id) или просто не нужны. \n",
    "Пропуск в total_income - случайные пропуски, так как у нас есть характерист\n",
    "ика должности, которая может помочь заполнить эти пустые значения.\n",
    "Пропуски в dob_years и children это неточность заполняющего оператора. Думаю это полностью случайные пропуски.\n",
    "В возрасте думаю 0 появился из-за возрастов вида 20, 30, 40. Оператор забыл первое число.\n",
    "С детьми думаю тоже ошибка оператора. -1 это 1, 20 это или 2, или 0."
   ]
  },
  {
   "cell_type": "markdown",
   "metadata": {},
   "source": [
    "### Замена типа данных"
   ]
  },
  {
   "cell_type": "markdown",
   "metadata": {},
   "source": [
    "Необходимо заменить характеристику total_income из float в int\n"
   ]
  },
  {
   "cell_type": "code",
   "execution_count": 38,
   "metadata": {
    "scrolled": true
   },
   "outputs": [
    {
     "name": "stderr",
     "output_type": "stream",
     "text": [
      "/opt/conda/lib/python3.7/site-packages/ipykernel_launcher.py:1: SettingWithCopyWarning: \n",
      "A value is trying to be set on a copy of a slice from a DataFrame.\n",
      "Try using .loc[row_indexer,col_indexer] = value instead\n",
      "\n",
      "See the caveats in the documentation: http://pandas.pydata.org/pandas-docs/stable/user_guide/indexing.html#returning-a-view-versus-a-copy\n",
      "  \"\"\"Entry point for launching an IPython kernel.\n"
     ]
    }
   ],
   "source": [
    "data_final['total_income'] = data_final['total_income'].astype('int')\n"
   ]
  },
  {
   "cell_type": "code",
   "execution_count": 39,
   "metadata": {},
   "outputs": [
    {
     "name": "stdout",
     "output_type": "stream",
     "text": [
      "<class 'pandas.core.frame.DataFrame'>\n",
      "Int64Index: 21401 entries, 0 to 21524\n",
      "Data columns (total 9 columns):\n",
      "children         21401 non-null int64\n",
      "dob_years        21401 non-null int64\n",
      "education        21401 non-null object\n",
      "family_status    21401 non-null object\n",
      "gender           21401 non-null object\n",
      "income_type      21401 non-null object\n",
      "debt             21401 non-null int64\n",
      "total_income     21401 non-null int64\n",
      "purpose          21401 non-null object\n",
      "dtypes: int64(4), object(5)\n",
      "memory usage: 1.6+ MB\n"
     ]
    }
   ],
   "source": [
    "data_final.info()"
   ]
  },
  {
   "cell_type": "code",
   "execution_count": 40,
   "metadata": {
    "scrolled": true
   },
   "outputs": [
    {
     "data": {
      "text/html": [
       "<div>\n",
       "<style scoped>\n",
       "    .dataframe tbody tr th:only-of-type {\n",
       "        vertical-align: middle;\n",
       "    }\n",
       "\n",
       "    .dataframe tbody tr th {\n",
       "        vertical-align: top;\n",
       "    }\n",
       "\n",
       "    .dataframe thead th {\n",
       "        text-align: right;\n",
       "    }\n",
       "</style>\n",
       "<table border=\"1\" class=\"dataframe\">\n",
       "  <thead>\n",
       "    <tr style=\"text-align: right;\">\n",
       "      <th></th>\n",
       "      <th>children</th>\n",
       "      <th>dob_years</th>\n",
       "      <th>education</th>\n",
       "      <th>family_status</th>\n",
       "      <th>gender</th>\n",
       "      <th>income_type</th>\n",
       "      <th>debt</th>\n",
       "      <th>total_income</th>\n",
       "      <th>purpose</th>\n",
       "    </tr>\n",
       "  </thead>\n",
       "  <tbody>\n",
       "    <tr>\n",
       "      <td>0</td>\n",
       "      <td>1</td>\n",
       "      <td>42</td>\n",
       "      <td>высшее</td>\n",
       "      <td>женат / замужем</td>\n",
       "      <td>F</td>\n",
       "      <td>сотрудник</td>\n",
       "      <td>0</td>\n",
       "      <td>253875</td>\n",
       "      <td>покупка жилья</td>\n",
       "    </tr>\n",
       "    <tr>\n",
       "      <td>1</td>\n",
       "      <td>1</td>\n",
       "      <td>36</td>\n",
       "      <td>среднее</td>\n",
       "      <td>женат / замужем</td>\n",
       "      <td>F</td>\n",
       "      <td>сотрудник</td>\n",
       "      <td>0</td>\n",
       "      <td>112080</td>\n",
       "      <td>приобретение автомобиля</td>\n",
       "    </tr>\n",
       "    <tr>\n",
       "      <td>2</td>\n",
       "      <td>0</td>\n",
       "      <td>33</td>\n",
       "      <td>среднее</td>\n",
       "      <td>женат / замужем</td>\n",
       "      <td>M</td>\n",
       "      <td>сотрудник</td>\n",
       "      <td>0</td>\n",
       "      <td>145885</td>\n",
       "      <td>покупка жилья</td>\n",
       "    </tr>\n",
       "    <tr>\n",
       "      <td>3</td>\n",
       "      <td>3</td>\n",
       "      <td>32</td>\n",
       "      <td>среднее</td>\n",
       "      <td>женат / замужем</td>\n",
       "      <td>M</td>\n",
       "      <td>сотрудник</td>\n",
       "      <td>0</td>\n",
       "      <td>267628</td>\n",
       "      <td>дополнительное образование</td>\n",
       "    </tr>\n",
       "    <tr>\n",
       "      <td>4</td>\n",
       "      <td>0</td>\n",
       "      <td>53</td>\n",
       "      <td>среднее</td>\n",
       "      <td>гражданский брак</td>\n",
       "      <td>F</td>\n",
       "      <td>пенсионер</td>\n",
       "      <td>0</td>\n",
       "      <td>158616</td>\n",
       "      <td>сыграть свадьбу</td>\n",
       "    </tr>\n",
       "  </tbody>\n",
       "</table>\n",
       "</div>"
      ],
      "text/plain": [
       "   children  dob_years education     family_status gender income_type  debt  \\\n",
       "0         1         42    высшее   женат / замужем      F   сотрудник     0   \n",
       "1         1         36   среднее   женат / замужем      F   сотрудник     0   \n",
       "2         0         33   среднее   женат / замужем      M   сотрудник     0   \n",
       "3         3         32   среднее   женат / замужем      M   сотрудник     0   \n",
       "4         0         53   среднее  гражданский брак      F   пенсионер     0   \n",
       "\n",
       "   total_income                     purpose  \n",
       "0        253875               покупка жилья  \n",
       "1        112080     приобретение автомобиля  \n",
       "2        145885               покупка жилья  \n",
       "3        267628  дополнительное образование  \n",
       "4        158616             сыграть свадьбу  "
      ]
     },
     "execution_count": 40,
     "metadata": {},
     "output_type": "execute_result"
    }
   ],
   "source": [
    "data_final.head()"
   ]
  },
  {
   "cell_type": "markdown",
   "metadata": {},
   "source": [
    "Меняем float на int в характеристике total_income, чтобы таблица обрабатывалась быстрее."
   ]
  },
  {
   "cell_type": "code",
   "execution_count": 41,
   "metadata": {},
   "outputs": [
    {
     "data": {
      "text/plain": [
       "72"
      ]
     },
     "execution_count": 41,
     "metadata": {},
     "output_type": "execute_result"
    }
   ],
   "source": [
    "data_final.duplicated().sum()"
   ]
  },
  {
   "cell_type": "code",
   "execution_count": 42,
   "metadata": {},
   "outputs": [],
   "source": [
    "data_final = data_final.drop_duplicates().reset_index(drop = True)"
   ]
  },
  {
   "cell_type": "code",
   "execution_count": 43,
   "metadata": {
    "scrolled": false
   },
   "outputs": [
    {
     "name": "stdout",
     "output_type": "stream",
     "text": [
      "<class 'pandas.core.frame.DataFrame'>\n",
      "RangeIndex: 21329 entries, 0 to 21328\n",
      "Data columns (total 9 columns):\n",
      "children         21329 non-null int64\n",
      "dob_years        21329 non-null int64\n",
      "education        21329 non-null object\n",
      "family_status    21329 non-null object\n",
      "gender           21329 non-null object\n",
      "income_type      21329 non-null object\n",
      "debt             21329 non-null int64\n",
      "total_income     21329 non-null int64\n",
      "purpose          21329 non-null object\n",
      "dtypes: int64(4), object(5)\n",
      "memory usage: 1.5+ MB\n"
     ]
    }
   ],
   "source": [
    "data_final.info()"
   ]
  },
  {
   "cell_type": "markdown",
   "metadata": {},
   "source": [
    "В таблице было 72 дубликата. Удаляем"
   ]
  },
  {
   "cell_type": "code",
   "execution_count": 44,
   "metadata": {},
   "outputs": [],
   "source": [
    "def categorization(purpose):\n",
    "    lemmas = m.lemmatize(purpose)\n",
    "    lemma = ['жилье', 'автомобиль', 'свадьба', 'недвижимость', 'образование']\n",
    "    for word in lemmas:\n",
    "        if word in lemma:\n",
    "            return word\n",
    "#for row in data_final['purpose']:\n",
    "#    lemmas = m.lemmatize(row)\n",
    "#    print(lemmas)"
   ]
  },
  {
   "cell_type": "code",
   "execution_count": 45,
   "metadata": {},
   "outputs": [],
   "source": [
    "data_final['purpose'] = data_final['purpose'].apply(categorization)"
   ]
  },
  {
   "cell_type": "code",
   "execution_count": 46,
   "metadata": {},
   "outputs": [
    {
     "data": {
      "text/plain": [
       "недвижимость    6312\n",
       "жилье           4437\n",
       "автомобиль      4279\n",
       "образование     3988\n",
       "свадьба         2313\n",
       "Name: purpose, dtype: int64"
      ]
     },
     "execution_count": 46,
     "metadata": {},
     "output_type": "execute_result"
    }
   ],
   "source": [
    "data_final['purpose'].value_counts()"
   ]
  },
  {
   "cell_type": "markdown",
   "metadata": {},
   "source": [
    "Первым делом мы обработали полные дубликаты и удалили их.\n",
    "\n",
    "Вторым делом: с помощью лемматизации определяем основные 5 категорий, на которые стоит разделить характеристику purpose. \n",
    "Функция categorization помогает нам распределить всехклиентов по этим 5 категориям."
   ]
  },
  {
   "cell_type": "markdown",
   "metadata": {},
   "source": [
    "Первое.\n",
    "Обнаружил, что цифровые значения в family_status_id и education_id неудобны, когда необходимо сводить таблицы. Вернусь и исправлю."
   ]
  },
  {
   "cell_type": "markdown",
   "metadata": {},
   "source": [
    "Второе.\n",
    "В идеале возраст тоже нужно привести к категориям. Но задача кредитного отдела и проекта не требует этого значения."
   ]
  },
  {
   "cell_type": "code",
   "execution_count": 47,
   "metadata": {},
   "outputs": [],
   "source": [
    "def rich_or_not(total_income):\n",
    "    if total_income < 50000:\n",
    "        return 'до 50000'\n",
    "    elif 50000 <= total_income < 100000:\n",
    "        return 'от 50000 до 100000'\n",
    "    elif 100000 <= total_income < 150000:\n",
    "        return 'от 100000 до 150000'\n",
    "    elif 150000 <= total_income < 200000:\n",
    "        return 'от 150000 до 200000'\n",
    "    elif 200000 <= total_income < 300000:\n",
    "        return 'от 200000 до 300000'\n",
    "    return 'от 300000'"
   ]
  },
  {
   "cell_type": "code",
   "execution_count": 48,
   "metadata": {},
   "outputs": [],
   "source": [
    "data_final['total_income'] = data_final['total_income'].apply(rich_or_not)"
   ]
  },
  {
   "cell_type": "markdown",
   "metadata": {},
   "source": [
    "Распределил людей по разным уровням заработка. Это нам поможет в будущем определить, при каком достатке люди чаще имеют проблемы с кредитами."
   ]
  },
  {
   "cell_type": "markdown",
   "metadata": {},
   "source": [
    "- Есть ли зависимость между наличием детей и возвратом кредита в срок?"
   ]
  },
  {
   "cell_type": "code",
   "execution_count": 49,
   "metadata": {},
   "outputs": [],
   "source": [
    "data_final_pivot = data_final.pivot_table(index = 'children', values = 'debt', aggfunc = ['sum','count'])"
   ]
  },
  {
   "cell_type": "code",
   "execution_count": 50,
   "metadata": {},
   "outputs": [],
   "source": [
    "data_final_pivot['ratio'] = data_final_pivot['sum'] / data_final_pivot['count']"
   ]
  },
  {
   "cell_type": "code",
   "execution_count": 51,
   "metadata": {},
   "outputs": [
    {
     "data": {
      "text/html": [
       "<div>\n",
       "<style scoped>\n",
       "    .dataframe tbody tr th:only-of-type {\n",
       "        vertical-align: middle;\n",
       "    }\n",
       "\n",
       "    .dataframe tbody tr th {\n",
       "        vertical-align: top;\n",
       "    }\n",
       "\n",
       "    .dataframe thead tr th {\n",
       "        text-align: left;\n",
       "    }\n",
       "\n",
       "    .dataframe thead tr:last-of-type th {\n",
       "        text-align: right;\n",
       "    }\n",
       "</style>\n",
       "<table border=\"1\" class=\"dataframe\">\n",
       "  <thead>\n",
       "    <tr>\n",
       "      <th></th>\n",
       "      <th>sum</th>\n",
       "      <th>count</th>\n",
       "      <th>ratio</th>\n",
       "    </tr>\n",
       "    <tr>\n",
       "      <th></th>\n",
       "      <th>debt</th>\n",
       "      <th>debt</th>\n",
       "      <th></th>\n",
       "    </tr>\n",
       "    <tr>\n",
       "      <th>children</th>\n",
       "      <th></th>\n",
       "      <th></th>\n",
       "      <th></th>\n",
       "    </tr>\n",
       "  </thead>\n",
       "  <tbody>\n",
       "    <tr>\n",
       "      <td>0</td>\n",
       "      <td>1063</td>\n",
       "      <td>14089</td>\n",
       "      <td>0.075449</td>\n",
       "    </tr>\n",
       "    <tr>\n",
       "      <td>1</td>\n",
       "      <td>444</td>\n",
       "      <td>4808</td>\n",
       "      <td>0.092346</td>\n",
       "    </tr>\n",
       "    <tr>\n",
       "      <td>2</td>\n",
       "      <td>194</td>\n",
       "      <td>2052</td>\n",
       "      <td>0.094542</td>\n",
       "    </tr>\n",
       "    <tr>\n",
       "      <td>3</td>\n",
       "      <td>27</td>\n",
       "      <td>330</td>\n",
       "      <td>0.081818</td>\n",
       "    </tr>\n",
       "    <tr>\n",
       "      <td>4</td>\n",
       "      <td>4</td>\n",
       "      <td>41</td>\n",
       "      <td>0.097561</td>\n",
       "    </tr>\n",
       "    <tr>\n",
       "      <td>5</td>\n",
       "      <td>0</td>\n",
       "      <td>9</td>\n",
       "      <td>0.000000</td>\n",
       "    </tr>\n",
       "  </tbody>\n",
       "</table>\n",
       "</div>"
      ],
      "text/plain": [
       "           sum  count     ratio\n",
       "          debt   debt          \n",
       "children                       \n",
       "0         1063  14089  0.075449\n",
       "1          444   4808  0.092346\n",
       "2          194   2052  0.094542\n",
       "3           27    330  0.081818\n",
       "4            4     41  0.097561\n",
       "5            0      9  0.000000"
      ]
     },
     "execution_count": 51,
     "metadata": {},
     "output_type": "execute_result"
    }
   ],
   "source": [
    "data_final_pivot"
   ]
  },
  {
   "cell_type": "markdown",
   "metadata": {},
   "source": [
    "Люди с детьми чаще не возращают кредиты. "
   ]
  },
  {
   "cell_type": "markdown",
   "metadata": {},
   "source": [
    "- Есть ли зависимость между семейным положением и возвратом кредита в срок?"
   ]
  },
  {
   "cell_type": "code",
   "execution_count": 52,
   "metadata": {},
   "outputs": [],
   "source": [
    "data_final_pivot = data_final.pivot_table(index = 'family_status', values = 'debt', aggfunc = ['sum','count'])"
   ]
  },
  {
   "cell_type": "code",
   "execution_count": 53,
   "metadata": {},
   "outputs": [],
   "source": [
    "data_final_pivot['ratio'] = data_final_pivot['sum'] / data_final_pivot['count']"
   ]
  },
  {
   "cell_type": "code",
   "execution_count": 54,
   "metadata": {},
   "outputs": [
    {
     "data": {
      "text/html": [
       "<div>\n",
       "<style scoped>\n",
       "    .dataframe tbody tr th:only-of-type {\n",
       "        vertical-align: middle;\n",
       "    }\n",
       "\n",
       "    .dataframe tbody tr th {\n",
       "        vertical-align: top;\n",
       "    }\n",
       "\n",
       "    .dataframe thead tr th {\n",
       "        text-align: left;\n",
       "    }\n",
       "\n",
       "    .dataframe thead tr:last-of-type th {\n",
       "        text-align: right;\n",
       "    }\n",
       "</style>\n",
       "<table border=\"1\" class=\"dataframe\">\n",
       "  <thead>\n",
       "    <tr>\n",
       "      <th></th>\n",
       "      <th>sum</th>\n",
       "      <th>count</th>\n",
       "      <th>ratio</th>\n",
       "    </tr>\n",
       "    <tr>\n",
       "      <th></th>\n",
       "      <th>debt</th>\n",
       "      <th>debt</th>\n",
       "      <th></th>\n",
       "    </tr>\n",
       "    <tr>\n",
       "      <th>family_status</th>\n",
       "      <th></th>\n",
       "      <th></th>\n",
       "      <th></th>\n",
       "    </tr>\n",
       "  </thead>\n",
       "  <tbody>\n",
       "    <tr>\n",
       "      <td>Не женат / не замужем</td>\n",
       "      <td>273</td>\n",
       "      <td>2796</td>\n",
       "      <td>0.097639</td>\n",
       "    </tr>\n",
       "    <tr>\n",
       "      <td>в разводе</td>\n",
       "      <td>84</td>\n",
       "      <td>1189</td>\n",
       "      <td>0.070648</td>\n",
       "    </tr>\n",
       "    <tr>\n",
       "      <td>вдовец / вдова</td>\n",
       "      <td>63</td>\n",
       "      <td>951</td>\n",
       "      <td>0.066246</td>\n",
       "    </tr>\n",
       "    <tr>\n",
       "      <td>гражданский брак</td>\n",
       "      <td>385</td>\n",
       "      <td>4133</td>\n",
       "      <td>0.093153</td>\n",
       "    </tr>\n",
       "    <tr>\n",
       "      <td>женат / замужем</td>\n",
       "      <td>927</td>\n",
       "      <td>12260</td>\n",
       "      <td>0.075612</td>\n",
       "    </tr>\n",
       "  </tbody>\n",
       "</table>\n",
       "</div>"
      ],
      "text/plain": [
       "                       sum  count     ratio\n",
       "                      debt   debt          \n",
       "family_status                              \n",
       "Не женат / не замужем  273   2796  0.097639\n",
       "в разводе               84   1189  0.070648\n",
       "вдовец / вдова          63    951  0.066246\n",
       "гражданский брак       385   4133  0.093153\n",
       "женат / замужем        927  12260  0.075612"
      ]
     },
     "execution_count": 54,
     "metadata": {},
     "output_type": "execute_result"
    }
   ],
   "source": [
    "data_final_pivot"
   ]
  },
  {
   "cell_type": "markdown",
   "metadata": {},
   "source": [
    "Люди кто был или сейчас официально расписан реже сталкиваются с проблемой не отдачи кредитов."
   ]
  },
  {
   "cell_type": "markdown",
   "metadata": {},
   "source": [
    "- Есть ли зависимость между уровнем дохода и возвратом кредита в срок?"
   ]
  },
  {
   "cell_type": "code",
   "execution_count": 55,
   "metadata": {
    "scrolled": true
   },
   "outputs": [
    {
     "data": {
      "text/html": [
       "<div>\n",
       "<style scoped>\n",
       "    .dataframe tbody tr th:only-of-type {\n",
       "        vertical-align: middle;\n",
       "    }\n",
       "\n",
       "    .dataframe tbody tr th {\n",
       "        vertical-align: top;\n",
       "    }\n",
       "\n",
       "    .dataframe thead tr th {\n",
       "        text-align: left;\n",
       "    }\n",
       "\n",
       "    .dataframe thead tr:last-of-type th {\n",
       "        text-align: right;\n",
       "    }\n",
       "</style>\n",
       "<table border=\"1\" class=\"dataframe\">\n",
       "  <thead>\n",
       "    <tr>\n",
       "      <th></th>\n",
       "      <th>sum</th>\n",
       "      <th>count</th>\n",
       "      <th>ratio</th>\n",
       "    </tr>\n",
       "    <tr>\n",
       "      <th></th>\n",
       "      <th>debt</th>\n",
       "      <th>debt</th>\n",
       "      <th></th>\n",
       "    </tr>\n",
       "    <tr>\n",
       "      <th>total_income</th>\n",
       "      <th></th>\n",
       "      <th></th>\n",
       "      <th></th>\n",
       "    </tr>\n",
       "  </thead>\n",
       "  <tbody>\n",
       "    <tr>\n",
       "      <td>до 50000</td>\n",
       "      <td>23</td>\n",
       "      <td>371</td>\n",
       "      <td>0.061995</td>\n",
       "    </tr>\n",
       "    <tr>\n",
       "      <td>от 100000 до 150000</td>\n",
       "      <td>619</td>\n",
       "      <td>7109</td>\n",
       "      <td>0.087073</td>\n",
       "    </tr>\n",
       "    <tr>\n",
       "      <td>от 150000 до 200000</td>\n",
       "      <td>403</td>\n",
       "      <td>4739</td>\n",
       "      <td>0.085039</td>\n",
       "    </tr>\n",
       "    <tr>\n",
       "      <td>от 200000 до 300000</td>\n",
       "      <td>250</td>\n",
       "      <td>3564</td>\n",
       "      <td>0.070146</td>\n",
       "    </tr>\n",
       "    <tr>\n",
       "      <td>от 300000</td>\n",
       "      <td>106</td>\n",
       "      <td>1473</td>\n",
       "      <td>0.071962</td>\n",
       "    </tr>\n",
       "    <tr>\n",
       "      <td>от 50000 до 100000</td>\n",
       "      <td>331</td>\n",
       "      <td>4073</td>\n",
       "      <td>0.081267</td>\n",
       "    </tr>\n",
       "  </tbody>\n",
       "</table>\n",
       "</div>"
      ],
      "text/plain": [
       "                     sum count     ratio\n",
       "                    debt  debt          \n",
       "total_income                            \n",
       "до 50000              23   371  0.061995\n",
       "от 100000 до 150000  619  7109  0.087073\n",
       "от 150000 до 200000  403  4739  0.085039\n",
       "от 200000 до 300000  250  3564  0.070146\n",
       "от 300000            106  1473  0.071962\n",
       "от 50000 до 100000   331  4073  0.081267"
      ]
     },
     "execution_count": 55,
     "metadata": {},
     "output_type": "execute_result"
    }
   ],
   "source": [
    "data_final_pivot = data_final.pivot_table(index = 'total_income', values = 'debt', aggfunc = ['sum','count'])\n",
    "data_final_pivot['ratio'] = data_final_pivot['sum'] / data_final_pivot['count']\n",
    "data_final_pivot"
   ]
  },
  {
   "cell_type": "markdown",
   "metadata": {},
   "source": [
    "Чаще всего не возращают кредиты люди с зарплатой от 100000 до 200000."
   ]
  },
  {
   "cell_type": "markdown",
   "metadata": {},
   "source": [
    "- Как разные цели кредита влияют на его возврат в срок?"
   ]
  },
  {
   "cell_type": "code",
   "execution_count": 56,
   "metadata": {
    "scrolled": true
   },
   "outputs": [
    {
     "data": {
      "text/html": [
       "<div>\n",
       "<style scoped>\n",
       "    .dataframe tbody tr th:only-of-type {\n",
       "        vertical-align: middle;\n",
       "    }\n",
       "\n",
       "    .dataframe tbody tr th {\n",
       "        vertical-align: top;\n",
       "    }\n",
       "\n",
       "    .dataframe thead tr th {\n",
       "        text-align: left;\n",
       "    }\n",
       "\n",
       "    .dataframe thead tr:last-of-type th {\n",
       "        text-align: right;\n",
       "    }\n",
       "</style>\n",
       "<table border=\"1\" class=\"dataframe\">\n",
       "  <thead>\n",
       "    <tr>\n",
       "      <th></th>\n",
       "      <th>sum</th>\n",
       "      <th>count</th>\n",
       "      <th>ratio</th>\n",
       "    </tr>\n",
       "    <tr>\n",
       "      <th></th>\n",
       "      <th>debt</th>\n",
       "      <th>debt</th>\n",
       "      <th></th>\n",
       "    </tr>\n",
       "    <tr>\n",
       "      <th>purpose</th>\n",
       "      <th></th>\n",
       "      <th></th>\n",
       "      <th></th>\n",
       "    </tr>\n",
       "  </thead>\n",
       "  <tbody>\n",
       "    <tr>\n",
       "      <td>автомобиль</td>\n",
       "      <td>400</td>\n",
       "      <td>4279</td>\n",
       "      <td>0.093480</td>\n",
       "    </tr>\n",
       "    <tr>\n",
       "      <td>жилье</td>\n",
       "      <td>308</td>\n",
       "      <td>4437</td>\n",
       "      <td>0.069416</td>\n",
       "    </tr>\n",
       "    <tr>\n",
       "      <td>недвижимость</td>\n",
       "      <td>472</td>\n",
       "      <td>6312</td>\n",
       "      <td>0.074778</td>\n",
       "    </tr>\n",
       "    <tr>\n",
       "      <td>образование</td>\n",
       "      <td>369</td>\n",
       "      <td>3988</td>\n",
       "      <td>0.092528</td>\n",
       "    </tr>\n",
       "    <tr>\n",
       "      <td>свадьба</td>\n",
       "      <td>183</td>\n",
       "      <td>2313</td>\n",
       "      <td>0.079118</td>\n",
       "    </tr>\n",
       "  </tbody>\n",
       "</table>\n",
       "</div>"
      ],
      "text/plain": [
       "              sum count     ratio\n",
       "             debt  debt          \n",
       "purpose                          \n",
       "автомобиль    400  4279  0.093480\n",
       "жилье         308  4437  0.069416\n",
       "недвижимость  472  6312  0.074778\n",
       "образование   369  3988  0.092528\n",
       "свадьба       183  2313  0.079118"
      ]
     },
     "execution_count": 56,
     "metadata": {},
     "output_type": "execute_result"
    }
   ],
   "source": [
    "data_final_pivot = data_final.pivot_table(index = 'purpose', values = 'debt', aggfunc = ['sum','count'])\n",
    "data_final_pivot['ratio'] = data_final_pivot['sum'] / data_final_pivot['count']\n",
    "data_final_pivot"
   ]
  },
  {
   "cell_type": "markdown",
   "metadata": {},
   "source": [
    "Кредиты на автомобиль или образование чаще не отдаются."
   ]
  },
  {
   "cell_type": "markdown",
   "metadata": {},
   "source": [
    "В процессе работы, я посчитал, что раз характеристики (family_status и family_status_id) и (education и education_id) коррелируют, то можно выбрать более простой(над которым не нужно работать. Но в конце, стало понятно, что в таком виде информацию не преподать обычным людям. Для них категероии 0,1,2,3 ничего не говорят. Чтобы таблицы были читаемые необходимо или поработать с категориями изначально(убрать лишние, понизить регистр и.т.д.) или воспользоваться в начале простым вариантом, а вконце поменять численные значения категорий, на понятные.\n",
    "<br></br>"
   ]
  }
 ],
 "metadata": {
  "kernelspec": {
   "display_name": "Python 3",
   "language": "python",
   "name": "python3"
  },
  "language_info": {
   "codemirror_mode": {
    "name": "ipython",
    "version": 3
   },
   "file_extension": ".py",
   "mimetype": "text/x-python",
   "name": "python",
   "nbconvert_exporter": "python",
   "pygments_lexer": "ipython3",
   "version": "3.8.3"
  }
 },
 "nbformat": 4,
 "nbformat_minor": 2
}
